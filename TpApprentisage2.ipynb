{
 "cells": [
  {
   "cell_type": "code",
   "source": [
    "import numpy as np\n",
    "import spicy \n",
    "import matplotlib as plt\n",
    "import os\n",
    "import pandas as pd\n",
    "from sklearn.model_selection import GridSearchCV\n",
    "from sklearn.model_selection import cross_val_score\n",
    "from sklearn.model_selection import train_test_split\n",
    "\n",
    "from sklearn.metrics import accuracy_score,confusion_matrix\n",
    "from joblib import dump, load\n",
    "import seaborn as sns\n",
    "from sklearn.metrics import confusion_matrix, classification_report\n",
    "from sklearn.inspection import permutation_importance\n",
    "from joblib import load\n",
    "from sklearn.compose import ColumnTransformer\n",
    "from sklearn.utils import shuffle\n",
    "from sklearn.pipeline import Pipeline\n",
    "from sklearn.svm import SVC\n",
    "from sklearn import tree\n",
    "from sklearn.preprocessing import RobustScaler,OneHotEncoder\n",
    "from sklearn.compose import ColumnTransformer\n",
    "from sklearn.feature_extraction.text import CountVectorizer\n",
    "from sklearn.model_selection import GridSearchCV\n",
    "from sklearn.model_selection import cross_val_score\n",
    "\n",
    "from sklearn.model_selection import train_test_split\n",
    "from sklearn.metrics import accuracy_score,confusion_matrix     "
   ],
   "execution_count": 2,
   "outputs": [],
   "metadata": {
    "datalore": {
     "node_id": "kinbDOEEgtU78Z33X18ocH",
     "type": "CODE",
     "hide_input_from_viewers": true,
     "hide_output_from_viewers": true
    }
   }
  },
  {
   "cell_type": "code",
   "source": [
    "dataset_name: str =\"/data/notebook_files/acsincome_ca_features.csv\"\n",
    "dataset_path: str = os.path.join(dataset_name)\n",
    "print(f\"Dataset directory: {dataset_path}\")\n",
    "X_all : pd.DataFrame = pd.read_csv(dataset_path)\n",
    "output_name = \"/data/notebook_files/acsincome_ca_labels.csv\"\n",
    "output_path = os.path.join(output_name)\n",
    "y_all : pd.DataFrame = pd.read_csv(output_path)\n",
    "\n",
    "\n",
    "X_all, y_all = shuffle(X_all, y_all, random_state=1)\n",
    "# only use the first N samples to limit training time\n",
    "num_samples = int(len(X_all)*1)\n",
    "X, y = X_all[:num_samples], y_all[:num_samples]\n",
    "\n"
   ],
   "execution_count": 6,
   "outputs": [
    {
     "name": "stdout",
     "text": [
      "Dataset directory: /data/notebook_files/acsincome_ca_features.csv\n"
     ],
     "output_type": "stream"
    }
   ],
   "metadata": {
    "datalore": {
     "node_id": "fAdaBwCXLWRn4YrAoMUjpr",
     "type": "CODE",
     "hide_input_from_viewers": true,
     "hide_output_from_viewers": true
    }
   }
  },
  {
   "cell_type": "code",
   "source": [
    "\n",
    "\n",
    "numeric_feature = [\"AGEP\", \"WKHP\"]\n",
    "categorical_features = [\"COW\", \"SCHL\", \"MAR\", \"OCCP\", \"POBP\", \"RELP\", \"SEX\", \"RAC1P\"]\n",
    "\n",
    "\n",
    "preprocessor = ColumnTransformer(transformers=[('num', RobustScaler(), numeric_feature),\n",
    "                                               ('cat', OneHotEncoder(handle_unknown='ignore'), categorical_features)\n",
    "                                               ])\n",
    "\n",
    "\n",
    "\n",
    "modelSVM = Pipeline([\n",
    "    ('preprocessor', preprocessor),\n",
    "    ('classifier', SVC())\n",
    "])\n",
    "modelSVM\n"
   ],
   "execution_count": 7,
   "outputs": [
    {
     "data": {
      "text/html": [
       "<style>#sk-container-id-2 {color: black;background-color: white;}#sk-container-id-2 pre{padding: 0;}#sk-container-id-2 div.sk-toggleable {background-color: white;}#sk-container-id-2 label.sk-toggleable__label {cursor: pointer;display: block;width: 100%;margin-bottom: 0;padding: 0.3em;box-sizing: border-box;text-align: center;}#sk-container-id-2 label.sk-toggleable__label-arrow:before {content: \"▸\";float: left;margin-right: 0.25em;color: #696969;}#sk-container-id-2 label.sk-toggleable__label-arrow:hover:before {color: black;}#sk-container-id-2 div.sk-estimator:hover label.sk-toggleable__label-arrow:before {color: black;}#sk-container-id-2 div.sk-toggleable__content {max-height: 0;max-width: 0;overflow: hidden;text-align: left;background-color: #f0f8ff;}#sk-container-id-2 div.sk-toggleable__content pre {margin: 0.2em;color: black;border-radius: 0.25em;background-color: #f0f8ff;}#sk-container-id-2 input.sk-toggleable__control:checked~div.sk-toggleable__content {max-height: 200px;max-width: 100%;overflow: auto;}#sk-container-id-2 input.sk-toggleable__control:checked~label.sk-toggleable__label-arrow:before {content: \"▾\";}#sk-container-id-2 div.sk-estimator input.sk-toggleable__control:checked~label.sk-toggleable__label {background-color: #d4ebff;}#sk-container-id-2 div.sk-label input.sk-toggleable__control:checked~label.sk-toggleable__label {background-color: #d4ebff;}#sk-container-id-2 input.sk-hidden--visually {border: 0;clip: rect(1px 1px 1px 1px);clip: rect(1px, 1px, 1px, 1px);height: 1px;margin: -1px;overflow: hidden;padding: 0;position: absolute;width: 1px;}#sk-container-id-2 div.sk-estimator {font-family: monospace;background-color: #f0f8ff;border: 1px dotted black;border-radius: 0.25em;box-sizing: border-box;margin-bottom: 0.5em;}#sk-container-id-2 div.sk-estimator:hover {background-color: #d4ebff;}#sk-container-id-2 div.sk-parallel-item::after {content: \"\";width: 100%;border-bottom: 1px solid gray;flex-grow: 1;}#sk-container-id-2 div.sk-label:hover label.sk-toggleable__label {background-color: #d4ebff;}#sk-container-id-2 div.sk-serial::before {content: \"\";position: absolute;border-left: 1px solid gray;box-sizing: border-box;top: 0;bottom: 0;left: 50%;z-index: 0;}#sk-container-id-2 div.sk-serial {display: flex;flex-direction: column;align-items: center;background-color: white;padding-right: 0.2em;padding-left: 0.2em;position: relative;}#sk-container-id-2 div.sk-item {position: relative;z-index: 1;}#sk-container-id-2 div.sk-parallel {display: flex;align-items: stretch;justify-content: center;background-color: white;position: relative;}#sk-container-id-2 div.sk-item::before, #sk-container-id-2 div.sk-parallel-item::before {content: \"\";position: absolute;border-left: 1px solid gray;box-sizing: border-box;top: 0;bottom: 0;left: 50%;z-index: -1;}#sk-container-id-2 div.sk-parallel-item {display: flex;flex-direction: column;z-index: 1;position: relative;background-color: white;}#sk-container-id-2 div.sk-parallel-item:first-child::after {align-self: flex-end;width: 50%;}#sk-container-id-2 div.sk-parallel-item:last-child::after {align-self: flex-start;width: 50%;}#sk-container-id-2 div.sk-parallel-item:only-child::after {width: 0;}#sk-container-id-2 div.sk-dashed-wrapped {border: 1px dashed gray;margin: 0 0.4em 0.5em 0.4em;box-sizing: border-box;padding-bottom: 0.4em;background-color: white;}#sk-container-id-2 div.sk-label label {font-family: monospace;font-weight: bold;display: inline-block;line-height: 1.2em;}#sk-container-id-2 div.sk-label-container {text-align: center;}#sk-container-id-2 div.sk-container {/* jupyter's `normalize.less` sets `[hidden] { display: none; }` but bootstrap.min.css set `[hidden] { display: none !important; }` so we also need the `!important` here to be able to override the default hidden behavior on the sphinx rendered scikit-learn.org. See: https://github.com/scikit-learn/scikit-learn/issues/21755 */display: inline-block !important;position: relative;}#sk-container-id-2 div.sk-text-repr-fallback {display: none;}</style><div id=\"sk-container-id-2\" class=\"sk-top-container\"><div class=\"sk-text-repr-fallback\"><pre>Pipeline(steps=[(&#x27;preprocessor&#x27;,\n",
       "                 ColumnTransformer(transformers=[(&#x27;num&#x27;, RobustScaler(),\n",
       "                                                  [&#x27;AGEP&#x27;, &#x27;WKHP&#x27;]),\n",
       "                                                 (&#x27;cat&#x27;,\n",
       "                                                  OneHotEncoder(handle_unknown=&#x27;ignore&#x27;),\n",
       "                                                  [&#x27;COW&#x27;, &#x27;SCHL&#x27;, &#x27;MAR&#x27;, &#x27;OCCP&#x27;,\n",
       "                                                   &#x27;POBP&#x27;, &#x27;RELP&#x27;, &#x27;SEX&#x27;,\n",
       "                                                   &#x27;RAC1P&#x27;])])),\n",
       "                (&#x27;classifier&#x27;, SVC())])</pre><b>In a Jupyter environment, please rerun this cell to show the HTML representation or trust the notebook. <br />On GitHub, the HTML representation is unable to render, please try loading this page with nbviewer.org.</b></div><div class=\"sk-container\" hidden><div class=\"sk-item sk-dashed-wrapped\"><div class=\"sk-label-container\"><div class=\"sk-label sk-toggleable\"><input class=\"sk-toggleable__control sk-hidden--visually\" id=\"sk-estimator-id-8\" type=\"checkbox\" ><label for=\"sk-estimator-id-8\" class=\"sk-toggleable__label sk-toggleable__label-arrow\">Pipeline</label><div class=\"sk-toggleable__content\"><pre>Pipeline(steps=[(&#x27;preprocessor&#x27;,\n",
       "                 ColumnTransformer(transformers=[(&#x27;num&#x27;, RobustScaler(),\n",
       "                                                  [&#x27;AGEP&#x27;, &#x27;WKHP&#x27;]),\n",
       "                                                 (&#x27;cat&#x27;,\n",
       "                                                  OneHotEncoder(handle_unknown=&#x27;ignore&#x27;),\n",
       "                                                  [&#x27;COW&#x27;, &#x27;SCHL&#x27;, &#x27;MAR&#x27;, &#x27;OCCP&#x27;,\n",
       "                                                   &#x27;POBP&#x27;, &#x27;RELP&#x27;, &#x27;SEX&#x27;,\n",
       "                                                   &#x27;RAC1P&#x27;])])),\n",
       "                (&#x27;classifier&#x27;, SVC())])</pre></div></div></div><div class=\"sk-serial\"><div class=\"sk-item sk-dashed-wrapped\"><div class=\"sk-label-container\"><div class=\"sk-label sk-toggleable\"><input class=\"sk-toggleable__control sk-hidden--visually\" id=\"sk-estimator-id-9\" type=\"checkbox\" ><label for=\"sk-estimator-id-9\" class=\"sk-toggleable__label sk-toggleable__label-arrow\">preprocessor: ColumnTransformer</label><div class=\"sk-toggleable__content\"><pre>ColumnTransformer(transformers=[(&#x27;num&#x27;, RobustScaler(), [&#x27;AGEP&#x27;, &#x27;WKHP&#x27;]),\n",
       "                                (&#x27;cat&#x27;, OneHotEncoder(handle_unknown=&#x27;ignore&#x27;),\n",
       "                                 [&#x27;COW&#x27;, &#x27;SCHL&#x27;, &#x27;MAR&#x27;, &#x27;OCCP&#x27;, &#x27;POBP&#x27;, &#x27;RELP&#x27;,\n",
       "                                  &#x27;SEX&#x27;, &#x27;RAC1P&#x27;])])</pre></div></div></div><div class=\"sk-parallel\"><div class=\"sk-parallel-item\"><div class=\"sk-item\"><div class=\"sk-label-container\"><div class=\"sk-label sk-toggleable\"><input class=\"sk-toggleable__control sk-hidden--visually\" id=\"sk-estimator-id-10\" type=\"checkbox\" ><label for=\"sk-estimator-id-10\" class=\"sk-toggleable__label sk-toggleable__label-arrow\">num</label><div class=\"sk-toggleable__content\"><pre>[&#x27;AGEP&#x27;, &#x27;WKHP&#x27;]</pre></div></div></div><div class=\"sk-serial\"><div class=\"sk-item\"><div class=\"sk-estimator sk-toggleable\"><input class=\"sk-toggleable__control sk-hidden--visually\" id=\"sk-estimator-id-11\" type=\"checkbox\" ><label for=\"sk-estimator-id-11\" class=\"sk-toggleable__label sk-toggleable__label-arrow\">RobustScaler</label><div class=\"sk-toggleable__content\"><pre>RobustScaler()</pre></div></div></div></div></div></div><div class=\"sk-parallel-item\"><div class=\"sk-item\"><div class=\"sk-label-container\"><div class=\"sk-label sk-toggleable\"><input class=\"sk-toggleable__control sk-hidden--visually\" id=\"sk-estimator-id-12\" type=\"checkbox\" ><label for=\"sk-estimator-id-12\" class=\"sk-toggleable__label sk-toggleable__label-arrow\">cat</label><div class=\"sk-toggleable__content\"><pre>[&#x27;COW&#x27;, &#x27;SCHL&#x27;, &#x27;MAR&#x27;, &#x27;OCCP&#x27;, &#x27;POBP&#x27;, &#x27;RELP&#x27;, &#x27;SEX&#x27;, &#x27;RAC1P&#x27;]</pre></div></div></div><div class=\"sk-serial\"><div class=\"sk-item\"><div class=\"sk-estimator sk-toggleable\"><input class=\"sk-toggleable__control sk-hidden--visually\" id=\"sk-estimator-id-13\" type=\"checkbox\" ><label for=\"sk-estimator-id-13\" class=\"sk-toggleable__label sk-toggleable__label-arrow\">OneHotEncoder</label><div class=\"sk-toggleable__content\"><pre>OneHotEncoder(handle_unknown=&#x27;ignore&#x27;)</pre></div></div></div></div></div></div></div></div><div class=\"sk-item\"><div class=\"sk-estimator sk-toggleable\"><input class=\"sk-toggleable__control sk-hidden--visually\" id=\"sk-estimator-id-14\" type=\"checkbox\" ><label for=\"sk-estimator-id-14\" class=\"sk-toggleable__label sk-toggleable__label-arrow\">SVC</label><div class=\"sk-toggleable__content\"><pre>SVC()</pre></div></div></div></div></div></div></div>"
      ]
     },
     "metadata": {},
     "output_type": "display_data"
    }
   ],
   "metadata": {
    "datalore": {
     "node_id": "c68d2okTsYqB0ULzeeN7m6",
     "type": "CODE",
     "hide_input_from_viewers": true,
     "hide_output_from_viewers": true
    }
   }
  },
  {
   "cell_type": "code",
   "source": [
    "from sklearn.model_selection import GridSearchCV\n",
    "from sklearn.model_selection import cross_val_score\n",
    "\n",
    "\n",
    "\n",
    "param_grid_SVM = { \n",
    "    'classifier__C' : [0.01,0.1,1,10,100],\n",
    "    'classifier__kernel' : [\"linear\", \"poly\", \"rbf\", \"sigmoid\"],\n",
    "    'classifier__shrinking' : [True, False]\n",
    "}\n",
    "\n",
    "grid_SVM = GridSearchCV(modelSVM,param_grid_SVM,cv=5, verbose=2)\n",
    "grid_SVM"
   ],
   "execution_count": 8,
   "outputs": [
    {
     "data": {
      "text/html": [
       "<style>#sk-container-id-3 {color: black;background-color: white;}#sk-container-id-3 pre{padding: 0;}#sk-container-id-3 div.sk-toggleable {background-color: white;}#sk-container-id-3 label.sk-toggleable__label {cursor: pointer;display: block;width: 100%;margin-bottom: 0;padding: 0.3em;box-sizing: border-box;text-align: center;}#sk-container-id-3 label.sk-toggleable__label-arrow:before {content: \"▸\";float: left;margin-right: 0.25em;color: #696969;}#sk-container-id-3 label.sk-toggleable__label-arrow:hover:before {color: black;}#sk-container-id-3 div.sk-estimator:hover label.sk-toggleable__label-arrow:before {color: black;}#sk-container-id-3 div.sk-toggleable__content {max-height: 0;max-width: 0;overflow: hidden;text-align: left;background-color: #f0f8ff;}#sk-container-id-3 div.sk-toggleable__content pre {margin: 0.2em;color: black;border-radius: 0.25em;background-color: #f0f8ff;}#sk-container-id-3 input.sk-toggleable__control:checked~div.sk-toggleable__content {max-height: 200px;max-width: 100%;overflow: auto;}#sk-container-id-3 input.sk-toggleable__control:checked~label.sk-toggleable__label-arrow:before {content: \"▾\";}#sk-container-id-3 div.sk-estimator input.sk-toggleable__control:checked~label.sk-toggleable__label {background-color: #d4ebff;}#sk-container-id-3 div.sk-label input.sk-toggleable__control:checked~label.sk-toggleable__label {background-color: #d4ebff;}#sk-container-id-3 input.sk-hidden--visually {border: 0;clip: rect(1px 1px 1px 1px);clip: rect(1px, 1px, 1px, 1px);height: 1px;margin: -1px;overflow: hidden;padding: 0;position: absolute;width: 1px;}#sk-container-id-3 div.sk-estimator {font-family: monospace;background-color: #f0f8ff;border: 1px dotted black;border-radius: 0.25em;box-sizing: border-box;margin-bottom: 0.5em;}#sk-container-id-3 div.sk-estimator:hover {background-color: #d4ebff;}#sk-container-id-3 div.sk-parallel-item::after {content: \"\";width: 100%;border-bottom: 1px solid gray;flex-grow: 1;}#sk-container-id-3 div.sk-label:hover label.sk-toggleable__label {background-color: #d4ebff;}#sk-container-id-3 div.sk-serial::before {content: \"\";position: absolute;border-left: 1px solid gray;box-sizing: border-box;top: 0;bottom: 0;left: 50%;z-index: 0;}#sk-container-id-3 div.sk-serial {display: flex;flex-direction: column;align-items: center;background-color: white;padding-right: 0.2em;padding-left: 0.2em;position: relative;}#sk-container-id-3 div.sk-item {position: relative;z-index: 1;}#sk-container-id-3 div.sk-parallel {display: flex;align-items: stretch;justify-content: center;background-color: white;position: relative;}#sk-container-id-3 div.sk-item::before, #sk-container-id-3 div.sk-parallel-item::before {content: \"\";position: absolute;border-left: 1px solid gray;box-sizing: border-box;top: 0;bottom: 0;left: 50%;z-index: -1;}#sk-container-id-3 div.sk-parallel-item {display: flex;flex-direction: column;z-index: 1;position: relative;background-color: white;}#sk-container-id-3 div.sk-parallel-item:first-child::after {align-self: flex-end;width: 50%;}#sk-container-id-3 div.sk-parallel-item:last-child::after {align-self: flex-start;width: 50%;}#sk-container-id-3 div.sk-parallel-item:only-child::after {width: 0;}#sk-container-id-3 div.sk-dashed-wrapped {border: 1px dashed gray;margin: 0 0.4em 0.5em 0.4em;box-sizing: border-box;padding-bottom: 0.4em;background-color: white;}#sk-container-id-3 div.sk-label label {font-family: monospace;font-weight: bold;display: inline-block;line-height: 1.2em;}#sk-container-id-3 div.sk-label-container {text-align: center;}#sk-container-id-3 div.sk-container {/* jupyter's `normalize.less` sets `[hidden] { display: none; }` but bootstrap.min.css set `[hidden] { display: none !important; }` so we also need the `!important` here to be able to override the default hidden behavior on the sphinx rendered scikit-learn.org. See: https://github.com/scikit-learn/scikit-learn/issues/21755 */display: inline-block !important;position: relative;}#sk-container-id-3 div.sk-text-repr-fallback {display: none;}</style><div id=\"sk-container-id-3\" class=\"sk-top-container\"><div class=\"sk-text-repr-fallback\"><pre>GridSearchCV(cv=5,\n",
       "             estimator=Pipeline(steps=[(&#x27;preprocessor&#x27;,\n",
       "                                        ColumnTransformer(transformers=[(&#x27;num&#x27;,\n",
       "                                                                         RobustScaler(),\n",
       "                                                                         [&#x27;AGEP&#x27;,\n",
       "                                                                          &#x27;WKHP&#x27;]),\n",
       "                                                                        (&#x27;cat&#x27;,\n",
       "                                                                         OneHotEncoder(handle_unknown=&#x27;ignore&#x27;),\n",
       "                                                                         [&#x27;COW&#x27;,\n",
       "                                                                          &#x27;SCHL&#x27;,\n",
       "                                                                          &#x27;MAR&#x27;,\n",
       "                                                                          &#x27;OCCP&#x27;,\n",
       "                                                                          &#x27;POBP&#x27;,\n",
       "                                                                          &#x27;RELP&#x27;,\n",
       "                                                                          &#x27;SEX&#x27;,\n",
       "                                                                          &#x27;RAC1P&#x27;])])),\n",
       "                                       (&#x27;classifier&#x27;, SVC())]),\n",
       "             param_grid={&#x27;classifier__C&#x27;: [0.01, 0.1, 1, 10, 100],\n",
       "                         &#x27;classifier__kernel&#x27;: [&#x27;linear&#x27;, &#x27;poly&#x27;, &#x27;rbf&#x27;,\n",
       "                                                &#x27;sigmoid&#x27;],\n",
       "                         &#x27;classifier__shrinking&#x27;: [True, False]},\n",
       "             verbose=2)</pre><b>In a Jupyter environment, please rerun this cell to show the HTML representation or trust the notebook. <br />On GitHub, the HTML representation is unable to render, please try loading this page with nbviewer.org.</b></div><div class=\"sk-container\" hidden><div class=\"sk-item sk-dashed-wrapped\"><div class=\"sk-label-container\"><div class=\"sk-label sk-toggleable\"><input class=\"sk-toggleable__control sk-hidden--visually\" id=\"sk-estimator-id-15\" type=\"checkbox\" ><label for=\"sk-estimator-id-15\" class=\"sk-toggleable__label sk-toggleable__label-arrow\">GridSearchCV</label><div class=\"sk-toggleable__content\"><pre>GridSearchCV(cv=5,\n",
       "             estimator=Pipeline(steps=[(&#x27;preprocessor&#x27;,\n",
       "                                        ColumnTransformer(transformers=[(&#x27;num&#x27;,\n",
       "                                                                         RobustScaler(),\n",
       "                                                                         [&#x27;AGEP&#x27;,\n",
       "                                                                          &#x27;WKHP&#x27;]),\n",
       "                                                                        (&#x27;cat&#x27;,\n",
       "                                                                         OneHotEncoder(handle_unknown=&#x27;ignore&#x27;),\n",
       "                                                                         [&#x27;COW&#x27;,\n",
       "                                                                          &#x27;SCHL&#x27;,\n",
       "                                                                          &#x27;MAR&#x27;,\n",
       "                                                                          &#x27;OCCP&#x27;,\n",
       "                                                                          &#x27;POBP&#x27;,\n",
       "                                                                          &#x27;RELP&#x27;,\n",
       "                                                                          &#x27;SEX&#x27;,\n",
       "                                                                          &#x27;RAC1P&#x27;])])),\n",
       "                                       (&#x27;classifier&#x27;, SVC())]),\n",
       "             param_grid={&#x27;classifier__C&#x27;: [0.01, 0.1, 1, 10, 100],\n",
       "                         &#x27;classifier__kernel&#x27;: [&#x27;linear&#x27;, &#x27;poly&#x27;, &#x27;rbf&#x27;,\n",
       "                                                &#x27;sigmoid&#x27;],\n",
       "                         &#x27;classifier__shrinking&#x27;: [True, False]},\n",
       "             verbose=2)</pre></div></div></div><div class=\"sk-parallel\"><div class=\"sk-parallel-item\"><div class=\"sk-item\"><div class=\"sk-label-container\"><div class=\"sk-label sk-toggleable\"><input class=\"sk-toggleable__control sk-hidden--visually\" id=\"sk-estimator-id-16\" type=\"checkbox\" ><label for=\"sk-estimator-id-16\" class=\"sk-toggleable__label sk-toggleable__label-arrow\">estimator: Pipeline</label><div class=\"sk-toggleable__content\"><pre>Pipeline(steps=[(&#x27;preprocessor&#x27;,\n",
       "                 ColumnTransformer(transformers=[(&#x27;num&#x27;, RobustScaler(),\n",
       "                                                  [&#x27;AGEP&#x27;, &#x27;WKHP&#x27;]),\n",
       "                                                 (&#x27;cat&#x27;,\n",
       "                                                  OneHotEncoder(handle_unknown=&#x27;ignore&#x27;),\n",
       "                                                  [&#x27;COW&#x27;, &#x27;SCHL&#x27;, &#x27;MAR&#x27;, &#x27;OCCP&#x27;,\n",
       "                                                   &#x27;POBP&#x27;, &#x27;RELP&#x27;, &#x27;SEX&#x27;,\n",
       "                                                   &#x27;RAC1P&#x27;])])),\n",
       "                (&#x27;classifier&#x27;, SVC())])</pre></div></div></div><div class=\"sk-serial\"><div class=\"sk-item\"><div class=\"sk-serial\"><div class=\"sk-item sk-dashed-wrapped\"><div class=\"sk-label-container\"><div class=\"sk-label sk-toggleable\"><input class=\"sk-toggleable__control sk-hidden--visually\" id=\"sk-estimator-id-17\" type=\"checkbox\" ><label for=\"sk-estimator-id-17\" class=\"sk-toggleable__label sk-toggleable__label-arrow\">preprocessor: ColumnTransformer</label><div class=\"sk-toggleable__content\"><pre>ColumnTransformer(transformers=[(&#x27;num&#x27;, RobustScaler(), [&#x27;AGEP&#x27;, &#x27;WKHP&#x27;]),\n",
       "                                (&#x27;cat&#x27;, OneHotEncoder(handle_unknown=&#x27;ignore&#x27;),\n",
       "                                 [&#x27;COW&#x27;, &#x27;SCHL&#x27;, &#x27;MAR&#x27;, &#x27;OCCP&#x27;, &#x27;POBP&#x27;, &#x27;RELP&#x27;,\n",
       "                                  &#x27;SEX&#x27;, &#x27;RAC1P&#x27;])])</pre></div></div></div><div class=\"sk-parallel\"><div class=\"sk-parallel-item\"><div class=\"sk-item\"><div class=\"sk-label-container\"><div class=\"sk-label sk-toggleable\"><input class=\"sk-toggleable__control sk-hidden--visually\" id=\"sk-estimator-id-18\" type=\"checkbox\" ><label for=\"sk-estimator-id-18\" class=\"sk-toggleable__label sk-toggleable__label-arrow\">num</label><div class=\"sk-toggleable__content\"><pre>[&#x27;AGEP&#x27;, &#x27;WKHP&#x27;]</pre></div></div></div><div class=\"sk-serial\"><div class=\"sk-item\"><div class=\"sk-estimator sk-toggleable\"><input class=\"sk-toggleable__control sk-hidden--visually\" id=\"sk-estimator-id-19\" type=\"checkbox\" ><label for=\"sk-estimator-id-19\" class=\"sk-toggleable__label sk-toggleable__label-arrow\">RobustScaler</label><div class=\"sk-toggleable__content\"><pre>RobustScaler()</pre></div></div></div></div></div></div><div class=\"sk-parallel-item\"><div class=\"sk-item\"><div class=\"sk-label-container\"><div class=\"sk-label sk-toggleable\"><input class=\"sk-toggleable__control sk-hidden--visually\" id=\"sk-estimator-id-20\" type=\"checkbox\" ><label for=\"sk-estimator-id-20\" class=\"sk-toggleable__label sk-toggleable__label-arrow\">cat</label><div class=\"sk-toggleable__content\"><pre>[&#x27;COW&#x27;, &#x27;SCHL&#x27;, &#x27;MAR&#x27;, &#x27;OCCP&#x27;, &#x27;POBP&#x27;, &#x27;RELP&#x27;, &#x27;SEX&#x27;, &#x27;RAC1P&#x27;]</pre></div></div></div><div class=\"sk-serial\"><div class=\"sk-item\"><div class=\"sk-estimator sk-toggleable\"><input class=\"sk-toggleable__control sk-hidden--visually\" id=\"sk-estimator-id-21\" type=\"checkbox\" ><label for=\"sk-estimator-id-21\" class=\"sk-toggleable__label sk-toggleable__label-arrow\">OneHotEncoder</label><div class=\"sk-toggleable__content\"><pre>OneHotEncoder(handle_unknown=&#x27;ignore&#x27;)</pre></div></div></div></div></div></div></div></div><div class=\"sk-item\"><div class=\"sk-estimator sk-toggleable\"><input class=\"sk-toggleable__control sk-hidden--visually\" id=\"sk-estimator-id-22\" type=\"checkbox\" ><label for=\"sk-estimator-id-22\" class=\"sk-toggleable__label sk-toggleable__label-arrow\">SVC</label><div class=\"sk-toggleable__content\"><pre>SVC()</pre></div></div></div></div></div></div></div></div></div></div></div></div>"
      ]
     },
     "metadata": {},
     "output_type": "display_data"
    }
   ],
   "metadata": {
    "datalore": {
     "node_id": "BAOdoTyFtrWMqrGqchH23E",
     "type": "CODE",
     "hide_input_from_viewers": true,
     "hide_output_from_viewers": true
    }
   }
  },
  {
   "cell_type": "code",
   "source": [
    "from sklearn.model_selection import train_test_split\n",
    "from sklearn.metrics import accuracy_score,confusion_matrix       \n",
    "\n",
    "X_train, X_test, y_train, y_test = train_test_split(X, y, test_size=0.3)\n",
    "\n",
    "\n"
   ],
   "execution_count": 9,
   "outputs": [],
   "metadata": {
    "datalore": {
     "node_id": "rcDIK00wjetRG2NLYp9xAS",
     "type": "CODE",
     "hide_input_from_viewers": true,
     "hide_output_from_viewers": true
    }
   }
  },
  {
   "cell_type": "code",
   "source": [
    "model_SVM = load('/data/notebook_files/model_SVM.joblib')\n",
    "predict = model_SVM.predict(X_test)\n",
    "accuracy_score_svc = accuracy_score(y_test[\"PINCP\"], predict)\n",
    "print(\"Accuracy test: \", accuracy_score_svc)\n",
    "confusion_matrix_svc = confusion_matrix(y_test,predict)\n",
    "print(confusion_matrix_svc)\n",
    "print(classification_report(y_test[\"PINCP\"], predict, labels=[0,1]))\n",
    "\n",
    "\n"
   ],
   "execution_count": 12,
   "outputs": [
    {
     "name": "stdout",
     "text": [
      "Accuracy test:  0.7846678023850086\n",
      "[[28347  6253]\n",
      " [ 6387 17713]]\n",
      "              precision    recall  f1-score   support\n",
      "\n",
      "           0       0.82      0.82      0.82     34600\n",
      "           1       0.74      0.73      0.74     24100\n",
      "\n",
      "    accuracy                           0.78     58700\n",
      "   macro avg       0.78      0.78      0.78     58700\n",
      "weighted avg       0.78      0.78      0.78     58700\n",
      "\n",
      "              precision    recall  f1-score   support\n",
      "\n",
      "       False       0.82      0.82      0.82     34600\n",
      "        True       0.74      0.73      0.74     24100\n",
      "\n",
      "    accuracy                           0.78     58700\n",
      "   macro avg       0.78      0.78      0.78     58700\n",
      "weighted avg       0.78      0.78      0.78     58700\n"
     ],
     "output_type": "stream"
    }
   ],
   "metadata": {
    "datalore": {
     "node_id": "AthG4PbnLPltrwzIooOCVD",
     "type": "CODE",
     "hide_input_from_viewers": true,
     "hide_output_from_viewers": true
    }
   }
  },
  {
   "cell_type": "code",
   "source": [
    "dataset_name: str =\"/data/notebook_files/acsincome_co_allfeaturesTP2.csv\"\n",
    "dataset_path: str = os.path.join(dataset_name)\n",
    "print(f\"Dataset directory: {dataset_path}\")\n",
    "X_all : pd.DataFrame = pd.read_csv(dataset_path)\n",
    "output_name = \"acsincome_co_labelTP2.csv\"\n",
    "output_path = os.path.join(output_name)\n",
    "y_all : pd.DataFrame = pd.read_csv(output_path)\n",
    "\n",
    "\n",
    "model_SVM = load('model_SVM.joblib')\n",
    "predict = model_SVM.predict(X_all)\n",
    "accuracy_score_svc_co = accuracy_score(y_all[\"PINCP\"], predict)\n",
    "print(\"Accuracy test on colorado: \", accuracy_score_svc_co)"
   ],
   "execution_count": 69,
   "outputs": [
    {
     "name": "stdout",
     "text": [
      "Dataset directory: /data/notebook_files/acsincome_co_allfeaturesTP2.csv\n",
      "Accuracy test on colorado:  0.7517089375838497\n"
     ],
     "output_type": "stream"
    }
   ],
   "metadata": {
    "datalore": {
     "node_id": "NbQhBYiKYcjZZFv4z8zR9s",
     "type": "CODE",
     "hide_input_from_viewers": true,
     "hide_output_from_viewers": true
    }
   }
  },
  {
   "cell_type": "code",
   "source": [
    "dataset_name: str =\"/data/notebook_files/acsincome_ne_allfeaturesTP2.csv\"\n",
    "dataset_path: str = os.path.join(dataset_name)\n",
    "print(f\"Dataset directory: {dataset_path}\")\n",
    "X_all : pd.DataFrame = pd.read_csv(dataset_path)\n",
    "output_name = \"acsincome_ne_labelTP2.csv\"\n",
    "output_path = os.path.join(output_name)\n",
    "y_all : pd.DataFrame = pd.read_csv(output_path)\n",
    "\n",
    "\n",
    "model_SVM = load('/data/notebook_files/model_SVM.joblib')\n",
    "predict = model_SVM.predict(X_all)\n",
    "accuracy_score_svc_ne = accuracy_score(y_all[\"PINCP\"], predict)\n",
    "print(\"Accuracy test on nevada: \", accuracy_score_svc_ne)"
   ],
   "execution_count": 71,
   "outputs": [
    {
     "name": "stdout",
     "text": [
      "Dataset directory: /data/notebook_files/acsincome_ne_allfeaturesTP2.csv\n",
      "Accuracy test on nevada:  0.7399165507649513\n"
     ],
     "output_type": "stream"
    }
   ],
   "metadata": {
    "datalore": {
     "node_id": "NwoVDxqvyEn0TjVeHq8xNN",
     "type": "CODE",
     "hide_input_from_viewers": true,
     "hide_output_from_viewers": true
    }
   }
  },
  {
   "cell_type": "code",
   "source": [
    "\n",
    "from sklearn.ensemble import RandomForestClassifier\n",
    "\n",
    "modelRF = Pipeline([\n",
    "    ('preprocessor', preprocessor),\n",
    "    ('classifier', RandomForestClassifier())\n",
    "])\n",
    "modelRF"
   ],
   "execution_count": 6,
   "outputs": [
    {
     "data": {
      "text/html": [
       "<style>#sk-container-id-2 {color: black;background-color: white;}#sk-container-id-2 pre{padding: 0;}#sk-container-id-2 div.sk-toggleable {background-color: white;}#sk-container-id-2 label.sk-toggleable__label {cursor: pointer;display: block;width: 100%;margin-bottom: 0;padding: 0.3em;box-sizing: border-box;text-align: center;}#sk-container-id-2 label.sk-toggleable__label-arrow:before {content: \"▸\";float: left;margin-right: 0.25em;color: #696969;}#sk-container-id-2 label.sk-toggleable__label-arrow:hover:before {color: black;}#sk-container-id-2 div.sk-estimator:hover label.sk-toggleable__label-arrow:before {color: black;}#sk-container-id-2 div.sk-toggleable__content {max-height: 0;max-width: 0;overflow: hidden;text-align: left;background-color: #f0f8ff;}#sk-container-id-2 div.sk-toggleable__content pre {margin: 0.2em;color: black;border-radius: 0.25em;background-color: #f0f8ff;}#sk-container-id-2 input.sk-toggleable__control:checked~div.sk-toggleable__content {max-height: 200px;max-width: 100%;overflow: auto;}#sk-container-id-2 input.sk-toggleable__control:checked~label.sk-toggleable__label-arrow:before {content: \"▾\";}#sk-container-id-2 div.sk-estimator input.sk-toggleable__control:checked~label.sk-toggleable__label {background-color: #d4ebff;}#sk-container-id-2 div.sk-label input.sk-toggleable__control:checked~label.sk-toggleable__label {background-color: #d4ebff;}#sk-container-id-2 input.sk-hidden--visually {border: 0;clip: rect(1px 1px 1px 1px);clip: rect(1px, 1px, 1px, 1px);height: 1px;margin: -1px;overflow: hidden;padding: 0;position: absolute;width: 1px;}#sk-container-id-2 div.sk-estimator {font-family: monospace;background-color: #f0f8ff;border: 1px dotted black;border-radius: 0.25em;box-sizing: border-box;margin-bottom: 0.5em;}#sk-container-id-2 div.sk-estimator:hover {background-color: #d4ebff;}#sk-container-id-2 div.sk-parallel-item::after {content: \"\";width: 100%;border-bottom: 1px solid gray;flex-grow: 1;}#sk-container-id-2 div.sk-label:hover label.sk-toggleable__label {background-color: #d4ebff;}#sk-container-id-2 div.sk-serial::before {content: \"\";position: absolute;border-left: 1px solid gray;box-sizing: border-box;top: 0;bottom: 0;left: 50%;z-index: 0;}#sk-container-id-2 div.sk-serial {display: flex;flex-direction: column;align-items: center;background-color: white;padding-right: 0.2em;padding-left: 0.2em;position: relative;}#sk-container-id-2 div.sk-item {position: relative;z-index: 1;}#sk-container-id-2 div.sk-parallel {display: flex;align-items: stretch;justify-content: center;background-color: white;position: relative;}#sk-container-id-2 div.sk-item::before, #sk-container-id-2 div.sk-parallel-item::before {content: \"\";position: absolute;border-left: 1px solid gray;box-sizing: border-box;top: 0;bottom: 0;left: 50%;z-index: -1;}#sk-container-id-2 div.sk-parallel-item {display: flex;flex-direction: column;z-index: 1;position: relative;background-color: white;}#sk-container-id-2 div.sk-parallel-item:first-child::after {align-self: flex-end;width: 50%;}#sk-container-id-2 div.sk-parallel-item:last-child::after {align-self: flex-start;width: 50%;}#sk-container-id-2 div.sk-parallel-item:only-child::after {width: 0;}#sk-container-id-2 div.sk-dashed-wrapped {border: 1px dashed gray;margin: 0 0.4em 0.5em 0.4em;box-sizing: border-box;padding-bottom: 0.4em;background-color: white;}#sk-container-id-2 div.sk-label label {font-family: monospace;font-weight: bold;display: inline-block;line-height: 1.2em;}#sk-container-id-2 div.sk-label-container {text-align: center;}#sk-container-id-2 div.sk-container {/* jupyter's `normalize.less` sets `[hidden] { display: none; }` but bootstrap.min.css set `[hidden] { display: none !important; }` so we also need the `!important` here to be able to override the default hidden behavior on the sphinx rendered scikit-learn.org. See: https://github.com/scikit-learn/scikit-learn/issues/21755 */display: inline-block !important;position: relative;}#sk-container-id-2 div.sk-text-repr-fallback {display: none;}</style><div id=\"sk-container-id-2\" class=\"sk-top-container\"><div class=\"sk-text-repr-fallback\"><pre>Pipeline(steps=[(&#x27;preprocessor&#x27;,\n",
       "                 ColumnTransformer(transformers=[(&#x27;num&#x27;, RobustScaler(),\n",
       "                                                  [&#x27;AGEP&#x27;, &#x27;WKHP&#x27;]),\n",
       "                                                 (&#x27;cat&#x27;,\n",
       "                                                  OneHotEncoder(handle_unknown=&#x27;ignore&#x27;),\n",
       "                                                  [&#x27;COW&#x27;, &#x27;SCHL&#x27;, &#x27;MAR&#x27;, &#x27;OCCP&#x27;,\n",
       "                                                   &#x27;POBP&#x27;, &#x27;RELP&#x27;, &#x27;SEX&#x27;,\n",
       "                                                   &#x27;RAC1P&#x27;])])),\n",
       "                (&#x27;classifier&#x27;, RandomForestClassifier())])</pre><b>In a Jupyter environment, please rerun this cell to show the HTML representation or trust the notebook. <br />On GitHub, the HTML representation is unable to render, please try loading this page with nbviewer.org.</b></div><div class=\"sk-container\" hidden><div class=\"sk-item sk-dashed-wrapped\"><div class=\"sk-label-container\"><div class=\"sk-label sk-toggleable\"><input class=\"sk-toggleable__control sk-hidden--visually\" id=\"sk-estimator-id-8\" type=\"checkbox\" ><label for=\"sk-estimator-id-8\" class=\"sk-toggleable__label sk-toggleable__label-arrow\">Pipeline</label><div class=\"sk-toggleable__content\"><pre>Pipeline(steps=[(&#x27;preprocessor&#x27;,\n",
       "                 ColumnTransformer(transformers=[(&#x27;num&#x27;, RobustScaler(),\n",
       "                                                  [&#x27;AGEP&#x27;, &#x27;WKHP&#x27;]),\n",
       "                                                 (&#x27;cat&#x27;,\n",
       "                                                  OneHotEncoder(handle_unknown=&#x27;ignore&#x27;),\n",
       "                                                  [&#x27;COW&#x27;, &#x27;SCHL&#x27;, &#x27;MAR&#x27;, &#x27;OCCP&#x27;,\n",
       "                                                   &#x27;POBP&#x27;, &#x27;RELP&#x27;, &#x27;SEX&#x27;,\n",
       "                                                   &#x27;RAC1P&#x27;])])),\n",
       "                (&#x27;classifier&#x27;, RandomForestClassifier())])</pre></div></div></div><div class=\"sk-serial\"><div class=\"sk-item sk-dashed-wrapped\"><div class=\"sk-label-container\"><div class=\"sk-label sk-toggleable\"><input class=\"sk-toggleable__control sk-hidden--visually\" id=\"sk-estimator-id-9\" type=\"checkbox\" ><label for=\"sk-estimator-id-9\" class=\"sk-toggleable__label sk-toggleable__label-arrow\">preprocessor: ColumnTransformer</label><div class=\"sk-toggleable__content\"><pre>ColumnTransformer(transformers=[(&#x27;num&#x27;, RobustScaler(), [&#x27;AGEP&#x27;, &#x27;WKHP&#x27;]),\n",
       "                                (&#x27;cat&#x27;, OneHotEncoder(handle_unknown=&#x27;ignore&#x27;),\n",
       "                                 [&#x27;COW&#x27;, &#x27;SCHL&#x27;, &#x27;MAR&#x27;, &#x27;OCCP&#x27;, &#x27;POBP&#x27;, &#x27;RELP&#x27;,\n",
       "                                  &#x27;SEX&#x27;, &#x27;RAC1P&#x27;])])</pre></div></div></div><div class=\"sk-parallel\"><div class=\"sk-parallel-item\"><div class=\"sk-item\"><div class=\"sk-label-container\"><div class=\"sk-label sk-toggleable\"><input class=\"sk-toggleable__control sk-hidden--visually\" id=\"sk-estimator-id-10\" type=\"checkbox\" ><label for=\"sk-estimator-id-10\" class=\"sk-toggleable__label sk-toggleable__label-arrow\">num</label><div class=\"sk-toggleable__content\"><pre>[&#x27;AGEP&#x27;, &#x27;WKHP&#x27;]</pre></div></div></div><div class=\"sk-serial\"><div class=\"sk-item\"><div class=\"sk-estimator sk-toggleable\"><input class=\"sk-toggleable__control sk-hidden--visually\" id=\"sk-estimator-id-11\" type=\"checkbox\" ><label for=\"sk-estimator-id-11\" class=\"sk-toggleable__label sk-toggleable__label-arrow\">RobustScaler</label><div class=\"sk-toggleable__content\"><pre>RobustScaler()</pre></div></div></div></div></div></div><div class=\"sk-parallel-item\"><div class=\"sk-item\"><div class=\"sk-label-container\"><div class=\"sk-label sk-toggleable\"><input class=\"sk-toggleable__control sk-hidden--visually\" id=\"sk-estimator-id-12\" type=\"checkbox\" ><label for=\"sk-estimator-id-12\" class=\"sk-toggleable__label sk-toggleable__label-arrow\">cat</label><div class=\"sk-toggleable__content\"><pre>[&#x27;COW&#x27;, &#x27;SCHL&#x27;, &#x27;MAR&#x27;, &#x27;OCCP&#x27;, &#x27;POBP&#x27;, &#x27;RELP&#x27;, &#x27;SEX&#x27;, &#x27;RAC1P&#x27;]</pre></div></div></div><div class=\"sk-serial\"><div class=\"sk-item\"><div class=\"sk-estimator sk-toggleable\"><input class=\"sk-toggleable__control sk-hidden--visually\" id=\"sk-estimator-id-13\" type=\"checkbox\" ><label for=\"sk-estimator-id-13\" class=\"sk-toggleable__label sk-toggleable__label-arrow\">OneHotEncoder</label><div class=\"sk-toggleable__content\"><pre>OneHotEncoder(handle_unknown=&#x27;ignore&#x27;)</pre></div></div></div></div></div></div></div></div><div class=\"sk-item\"><div class=\"sk-estimator sk-toggleable\"><input class=\"sk-toggleable__control sk-hidden--visually\" id=\"sk-estimator-id-14\" type=\"checkbox\" ><label for=\"sk-estimator-id-14\" class=\"sk-toggleable__label sk-toggleable__label-arrow\">RandomForestClassifier</label><div class=\"sk-toggleable__content\"><pre>RandomForestClassifier()</pre></div></div></div></div></div></div></div>"
      ]
     },
     "metadata": {},
     "output_type": "display_data"
    }
   ],
   "metadata": {
    "datalore": {
     "node_id": "6uYIfDU3NMq2chwQw8Csba",
     "type": "CODE",
     "hide_input_from_viewers": true,
     "hide_output_from_viewers": true
    }
   }
  },
  {
   "cell_type": "code",
   "source": [
    "import numpy as np\n",
    "param_grid_RF = { \n",
    "    'classifier__max_depth' : np.arange(1,1501,300),\n",
    "    'classifier__criterion' : [\"gini\",\"entropy\",\"log_loss\"],\n",
    "    'classifier__min_samples_leaf' : np.arange(1,16,2),\n",
    "    'classifier__min_samples_split': np.arange(2,16,2)\n",
    "}\n",
    "\n",
    "grid_RF = GridSearchCV(modelRF,param_grid_RF,cv=5, verbose=2)\n",
    "\n",
    "X_train, X_test, y_train, y_test = train_test_split(X, y, test_size=0.3)\n",
    "\n",
    "grid_RF.fit(X_train, y_train[\"PINCP\"])\n",
    "\n",
    "predict = grid_RF.predict(X_test)\n",
    "accuracy_score_rf = accuracy_score(y_test[\"PINCP\"], predict)\n",
    "print(\"Score training: \", grid_RF.best_score_)\n",
    "print(\"Accuracy test: \", accuracy_score_rf)\n",
    "print(\"Best parameters : \", grid_RF.best_params_)\n",
    "\n",
    "best_model = grid_RF.best_estimator_\n",
    "dump(best_model, '/data/notebook_files/model_RF.joblib')"
   ],
   "execution_count": 3,
   "outputs": [
    {
     "ename": "NameError",
     "evalue": "NameError: name 'modelRF' is not defined",
     "traceback": [
      "\u001B[0;31m---------------------------------------------------------------------------",
      "Traceback (most recent call last)",
      "    at line 9 in <module>",
      "NameError: name 'modelRF' is not defined"
     ],
     "output_type": "error"
    }
   ],
   "metadata": {
    "datalore": {
     "node_id": "TYf4EZ6EyXoy02bngWGxor",
     "type": "CODE",
     "hide_input_from_viewers": true,
     "hide_output_from_viewers": true
    }
   }
  },
  {
   "cell_type": "code",
   "source": [
    "\n",
    "\n",
    "X_train, X_test, y_train, y_test = train_test_split(X, y, test_size=0.3)\n",
    "model_RF = load(\"/data/notebook_files/model_RF.joblib\")\n",
    "predict = model_RF.predict(X_test)\n",
    "accuracy_score_rf = accuracy_score(y_test[\"PINCP\"], predict)\n",
    "print(\"Accuracy test: \", accuracy_score_rf)\n",
    "confusion_matrix_rf = confusion_matrix(y_test,predict)\n",
    "print(confusion_matrix_rf)\n",
    "print(classification_report(y_test[\"PINCP\"], predict, labels=[0,1]))\n"
   ],
   "execution_count": 13,
   "outputs": [
    {
     "name": "stdout",
     "text": [
      "Accuracy test:  0.7910391822827939\n",
      "[[29803  4809]\n",
      " [ 7457 16631]]\n",
      "              precision    recall  f1-score   support\n",
      "\n",
      "           0       0.80      0.86      0.83     34612\n",
      "           1       0.78      0.69      0.73     24088\n",
      "\n",
      "    accuracy                           0.79     58700\n",
      "   macro avg       0.79      0.78      0.78     58700\n",
      "weighted avg       0.79      0.79      0.79     58700\n"
     ],
     "output_type": "stream"
    }
   ],
   "metadata": {
    "datalore": {
     "node_id": "2rlg1XWIAirWZqLL7wTWWd",
     "type": "CODE",
     "hide_input_from_viewers": true,
     "hide_output_from_viewers": true
    }
   }
  },
  {
   "cell_type": "code",
   "source": [
    "dataset_name: str =\"/data/notebook_files/acsincome_co_allfeaturesTP2.csv\"\n",
    "dataset_path: str = os.path.join(dataset_name)\n",
    "print(f\"Dataset directory: {dataset_path}\")\n",
    "X_all : pd.DataFrame = pd.read_csv(dataset_path)\n",
    "output_name = \"/data/notebook_files/acsincome_co_labelTP2.csv\"\n",
    "output_path = os.path.join(output_name)\n",
    "y_all : pd.DataFrame = pd.read_csv(output_path)\n",
    "\n",
    "\n",
    "model_RF = load('/data/notebook_files/model_RF.joblib')\n",
    "predict = model_RF.predict(X_all)\n",
    "accuracy_score_rf_co = accuracy_score(y_all[\"PINCP\"], predict)\n",
    "print(\"Accuracy test on colorado: \", accuracy_score_rf_co)"
   ],
   "execution_count": 73,
   "outputs": [
    {
     "name": "stdout",
     "text": [
      "Dataset directory: /data/notebook_files/acsincome_co_allfeaturesTP2.csv\n",
      "Accuracy test on colorado:  0.7633041589471666\n"
     ],
     "output_type": "stream"
    }
   ],
   "metadata": {
    "datalore": {
     "node_id": "x0wWihEM0Z0u1isa8qpnvM",
     "type": "CODE",
     "hide_input_from_viewers": true,
     "hide_output_from_viewers": true
    }
   }
  },
  {
   "cell_type": "code",
   "source": [
    "dataset_name: str =\"/data/notebook_files/acsincome_ne_allfeaturesTP2.csv\"\n",
    "dataset_path: str = os.path.join(dataset_name)\n",
    "print(f\"Dataset directory: {dataset_path}\")\n",
    "X_all : pd.DataFrame = pd.read_csv(dataset_path)\n",
    "output_name = \"/data/notebook_files/acsincome_ne_labelTP2.csv\"\n",
    "output_path = os.path.join(output_name)\n",
    "y_all : pd.DataFrame = pd.read_csv(output_path)\n",
    "\n",
    "print(classification_report(y_test[\"PINCP\"], predict, labels=[0,1]))\n",
    "\n",
    "model_RF = load('/data/notebook_files/model_RF.joblib')\n",
    "predict = model_RF.predict(X_all)\n",
    "accuracy_score_rf_ne = accuracy_score(y_all[\"PINCP\"], predict)\n",
    "print(\"Accuracy test on nevada: \", accuracy_score_rf_ne)"
   ],
   "execution_count": 17,
   "outputs": [
    {
     "name": "stdout",
     "text": [
      "Dataset directory: /data/notebook_files/acsincome_ne_allfeaturesTP2.csv\n",
      "              precision    recall  f1-score   support\n",
      "\n",
      "           0       0.81      0.84      0.82     34612\n",
      "           1       0.76      0.72      0.74     24088\n",
      "\n",
      "    accuracy                           0.79     58700\n",
      "   macro avg       0.78      0.78      0.78     58700\n",
      "weighted avg       0.79      0.79      0.79     58700\n",
      "\n",
      "Accuracy test on nevada:  0.7523412146499768\n"
     ],
     "output_type": "stream"
    }
   ],
   "metadata": {
    "datalore": {
     "node_id": "dRMQPYbZcaEdnoG1NahBqI",
     "type": "CODE",
     "hide_input_from_viewers": true,
     "hide_output_from_viewers": true
    }
   }
  },
  {
   "cell_type": "code",
   "source": [
    "\n",
    "from sklearn.ensemble import AdaBoostClassifier\n",
    "\n",
    "\n",
    "\n",
    "modelADA = Pipeline([\n",
    "    ('preprocessor', preprocessor),\n",
    "    ('classifier', AdaBoostClassifier())\n",
    "])\n",
    "\n",
    "modelADA\n",
    "\n"
   ],
   "execution_count": null,
   "outputs": [],
   "metadata": {
    "datalore": {
     "node_id": "oR7CCxIXEPnYxwjkkrTrpR",
     "type": "CODE",
     "hide_input_from_viewers": true,
     "hide_output_from_viewers": true
    }
   }
  },
  {
   "cell_type": "code",
   "source": [
    "from sklearn.neighbors import KNeighborsClassifier\n",
    "from sklearn.linear_model import LogisticRegression\n",
    "\n",
    "param_grid_ADA = { \n",
    "    'classifier__n_estimators' : np.arange(1,91,30),\n",
    "    'classifier__learning_rate' : np.arange(0,3, 1),\n",
    "    'classifier__algorithm' : ['SAMME', 'SAMME.R'],\n",
    "    'classifier__estimator' : [SVC(), RandomForestClassifier(), KNeighborsClassifier(), LogisticRegression() ]\n",
    "}\n",
    "\n",
    "grid_ADA = GridSearchCV(modelADA,param_grid_ADA,cv=5, verbose=2)\n",
    "\n",
    "\n",
    "grid_ADA.fit(X_train, y_train[\"PINCP\"])\n",
    "\n",
    "\n",
    "\n",
    "best_model = grid_RF.best_estimator_\n",
    "dump(best_model, '/data/notebook_files/model_ADA.joblib')"
   ],
   "execution_count": null,
   "outputs": [],
   "metadata": {
    "datalore": {
     "node_id": "zMtnCjNKdAHlHwJPHkYh1h",
     "type": "CODE",
     "hide_input_from_viewers": true,
     "hide_output_from_viewers": true
    }
   }
  },
  {
   "cell_type": "code",
   "source": [
    "from sklearn.ensemble import RandomForestClassifier\n",
    "from sklearn.neighbors import KNeighborsClassifier\n",
    "from sklearn.linear_model import LogisticRegression\n",
    "\n",
    "model_ADA = load(\"/data/notebook_files/model_ADA.joblib\")\n",
    "predict = model_ADA.predict(X_test)\n",
    "accuracy_score_ada = accuracy_score(y_test[\"PINCP\"], predict)\n",
    "print(\"Accuracy test: \", accuracy_score_ada)\n",
    "confusion_matrix_ada = confusion_matrix(y_test,predict)\n",
    "print(confusion_matrix_ada)\n",
    "print(classification_report(y_test[\"PINCP\"], predict, labels=[0,1]))\n"
   ],
   "execution_count": 14,
   "outputs": [
    {
     "name": "stdout",
     "text": [
      "Accuracy test:  0.778756388415673\n",
      "[[29114  5498]\n",
      " [ 7489 16599]]\n",
      "              precision    recall  f1-score   support\n",
      "\n",
      "           0       0.80      0.84      0.82     34612\n",
      "           1       0.75      0.69      0.72     24088\n",
      "\n",
      "    accuracy                           0.78     58700\n",
      "   macro avg       0.77      0.77      0.77     58700\n",
      "weighted avg       0.78      0.78      0.78     58700\n"
     ],
     "output_type": "stream"
    }
   ],
   "metadata": {
    "datalore": {
     "node_id": "dHrLgKRNWZzjahfbgEqvbL",
     "type": "CODE",
     "hide_input_from_viewers": true,
     "hide_output_from_viewers": true
    }
   }
  },
  {
   "cell_type": "code",
   "source": [
    "dataset_name: str =\"/data/notebook_files/acsincome_co_allfeaturesTP2.csv\"\n",
    "dataset_path: str = os.path.join(dataset_name)\n",
    "print(f\"Dataset directory: {dataset_path}\")\n",
    "X_all : pd.DataFrame = pd.read_csv(dataset_path)\n",
    "output_name = \"/data/notebook_files/acsincome_co_labelTP2.csv\"\n",
    "output_path = os.path.join(output_name)\n",
    "y_all : pd.DataFrame = pd.read_csv(output_path)\n",
    "\n",
    "\n",
    "model_ADA = load('/data/notebook_files/model_ADA.joblib')\n",
    "predict = model_ADA.predict(X_all)\n",
    "accuracy_score_ada_co = accuracy_score(y_all[\"PINCP\"], predict)\n",
    "print(\"Accuracy test on colorado: \", accuracy_score_ada_co)"
   ],
   "execution_count": 63,
   "outputs": [
    {
     "name": "stdout",
     "text": [
      "Dataset directory: /data/notebook_files/acsincome_co_allfeaturesTP2.csv\n",
      "Accuracy test on colorado:  0.7534019037884112\n"
     ],
     "output_type": "stream"
    }
   ],
   "metadata": {
    "datalore": {
     "node_id": "oEZwHDQHbxrVAWE2y9dBPO",
     "type": "CODE",
     "hide_input_from_viewers": true,
     "hide_output_from_viewers": true
    }
   }
  },
  {
   "cell_type": "code",
   "source": [
    "dataset_name: str =\"/data/notebook_files/acsincome_ne_allfeaturesTP2.csv\"\n",
    "dataset_path: str = os.path.join(dataset_name)\n",
    "print(f\"Dataset directory: {dataset_path}\")\n",
    "X_all : pd.DataFrame = pd.read_csv(dataset_path)\n",
    "output_name = \"/data/notebook_files/acsincome_ne_labelTP2.csv\"\n",
    "output_path = os.path.join(output_name)\n",
    "y_all : pd.DataFrame = pd.read_csv(output_path)\n",
    "\n",
    "\n",
    "model_ADA = load('/data/notebook_files/model_ADA.joblib')\n",
    "predict = model_ADA.predict(X_all)\n",
    "accuracy_score_ada_ne = accuracy_score(y_all[\"PINCP\"], predict)\n",
    "print(\"Accuracy test on nevada: \", accuracy_score_ada_ne)"
   ],
   "execution_count": 77,
   "outputs": [
    {
     "name": "stdout",
     "text": [
      "Dataset directory: /data/notebook_files/acsincome_ne_allfeaturesTP2.csv\n",
      "Accuracy test on nevada:  0.7387111729253593\n"
     ],
     "output_type": "stream"
    }
   ],
   "metadata": {
    "datalore": {
     "node_id": "9N1V1wNm2u6eQ2NBxGRYKM",
     "type": "CODE",
     "hide_input_from_viewers": true,
     "hide_output_from_viewers": true
    }
   }
  },
  {
   "cell_type": "code",
   "source": [
    "from sklearn.ensemble import GradientBoostingClassifier\n",
    "\n",
    "\n",
    "\n",
    "modelGBC = Pipeline([\n",
    "    ('preprocessor', preprocessor),\n",
    "    ('classifier', GradientBoostingClassifier())\n",
    "])\n",
    "\n",
    "modelGBC"
   ],
   "execution_count": 36,
   "outputs": [
    {
     "data": {
      "text/html": [
       "<style>#sk-container-id-3 {color: black;background-color: white;}#sk-container-id-3 pre{padding: 0;}#sk-container-id-3 div.sk-toggleable {background-color: white;}#sk-container-id-3 label.sk-toggleable__label {cursor: pointer;display: block;width: 100%;margin-bottom: 0;padding: 0.3em;box-sizing: border-box;text-align: center;}#sk-container-id-3 label.sk-toggleable__label-arrow:before {content: \"▸\";float: left;margin-right: 0.25em;color: #696969;}#sk-container-id-3 label.sk-toggleable__label-arrow:hover:before {color: black;}#sk-container-id-3 div.sk-estimator:hover label.sk-toggleable__label-arrow:before {color: black;}#sk-container-id-3 div.sk-toggleable__content {max-height: 0;max-width: 0;overflow: hidden;text-align: left;background-color: #f0f8ff;}#sk-container-id-3 div.sk-toggleable__content pre {margin: 0.2em;color: black;border-radius: 0.25em;background-color: #f0f8ff;}#sk-container-id-3 input.sk-toggleable__control:checked~div.sk-toggleable__content {max-height: 200px;max-width: 100%;overflow: auto;}#sk-container-id-3 input.sk-toggleable__control:checked~label.sk-toggleable__label-arrow:before {content: \"▾\";}#sk-container-id-3 div.sk-estimator input.sk-toggleable__control:checked~label.sk-toggleable__label {background-color: #d4ebff;}#sk-container-id-3 div.sk-label input.sk-toggleable__control:checked~label.sk-toggleable__label {background-color: #d4ebff;}#sk-container-id-3 input.sk-hidden--visually {border: 0;clip: rect(1px 1px 1px 1px);clip: rect(1px, 1px, 1px, 1px);height: 1px;margin: -1px;overflow: hidden;padding: 0;position: absolute;width: 1px;}#sk-container-id-3 div.sk-estimator {font-family: monospace;background-color: #f0f8ff;border: 1px dotted black;border-radius: 0.25em;box-sizing: border-box;margin-bottom: 0.5em;}#sk-container-id-3 div.sk-estimator:hover {background-color: #d4ebff;}#sk-container-id-3 div.sk-parallel-item::after {content: \"\";width: 100%;border-bottom: 1px solid gray;flex-grow: 1;}#sk-container-id-3 div.sk-label:hover label.sk-toggleable__label {background-color: #d4ebff;}#sk-container-id-3 div.sk-serial::before {content: \"\";position: absolute;border-left: 1px solid gray;box-sizing: border-box;top: 0;bottom: 0;left: 50%;z-index: 0;}#sk-container-id-3 div.sk-serial {display: flex;flex-direction: column;align-items: center;background-color: white;padding-right: 0.2em;padding-left: 0.2em;position: relative;}#sk-container-id-3 div.sk-item {position: relative;z-index: 1;}#sk-container-id-3 div.sk-parallel {display: flex;align-items: stretch;justify-content: center;background-color: white;position: relative;}#sk-container-id-3 div.sk-item::before, #sk-container-id-3 div.sk-parallel-item::before {content: \"\";position: absolute;border-left: 1px solid gray;box-sizing: border-box;top: 0;bottom: 0;left: 50%;z-index: -1;}#sk-container-id-3 div.sk-parallel-item {display: flex;flex-direction: column;z-index: 1;position: relative;background-color: white;}#sk-container-id-3 div.sk-parallel-item:first-child::after {align-self: flex-end;width: 50%;}#sk-container-id-3 div.sk-parallel-item:last-child::after {align-self: flex-start;width: 50%;}#sk-container-id-3 div.sk-parallel-item:only-child::after {width: 0;}#sk-container-id-3 div.sk-dashed-wrapped {border: 1px dashed gray;margin: 0 0.4em 0.5em 0.4em;box-sizing: border-box;padding-bottom: 0.4em;background-color: white;}#sk-container-id-3 div.sk-label label {font-family: monospace;font-weight: bold;display: inline-block;line-height: 1.2em;}#sk-container-id-3 div.sk-label-container {text-align: center;}#sk-container-id-3 div.sk-container {/* jupyter's `normalize.less` sets `[hidden] { display: none; }` but bootstrap.min.css set `[hidden] { display: none !important; }` so we also need the `!important` here to be able to override the default hidden behavior on the sphinx rendered scikit-learn.org. See: https://github.com/scikit-learn/scikit-learn/issues/21755 */display: inline-block !important;position: relative;}#sk-container-id-3 div.sk-text-repr-fallback {display: none;}</style><div id=\"sk-container-id-3\" class=\"sk-top-container\"><div class=\"sk-text-repr-fallback\"><pre>Pipeline(steps=[(&#x27;preprocessor&#x27;,\n",
       "                 ColumnTransformer(transformers=[(&#x27;num&#x27;, RobustScaler(),\n",
       "                                                  [&#x27;AGEP&#x27;, &#x27;WKHP&#x27;]),\n",
       "                                                 (&#x27;cat&#x27;,\n",
       "                                                  OneHotEncoder(handle_unknown=&#x27;ignore&#x27;),\n",
       "                                                  [&#x27;COW&#x27;, &#x27;SCHL&#x27;, &#x27;MAR&#x27;, &#x27;OCCP&#x27;,\n",
       "                                                   &#x27;POBP&#x27;, &#x27;RELP&#x27;,\n",
       "                                                   &#x27;RAC1P&#x27;])])),\n",
       "                (&#x27;classifier&#x27;, GradientBoostingClassifier())])</pre><b>In a Jupyter environment, please rerun this cell to show the HTML representation or trust the notebook. <br />On GitHub, the HTML representation is unable to render, please try loading this page with nbviewer.org.</b></div><div class=\"sk-container\" hidden><div class=\"sk-item sk-dashed-wrapped\"><div class=\"sk-label-container\"><div class=\"sk-label sk-toggleable\"><input class=\"sk-toggleable__control sk-hidden--visually\" id=\"sk-estimator-id-15\" type=\"checkbox\" ><label for=\"sk-estimator-id-15\" class=\"sk-toggleable__label sk-toggleable__label-arrow\">Pipeline</label><div class=\"sk-toggleable__content\"><pre>Pipeline(steps=[(&#x27;preprocessor&#x27;,\n",
       "                 ColumnTransformer(transformers=[(&#x27;num&#x27;, RobustScaler(),\n",
       "                                                  [&#x27;AGEP&#x27;, &#x27;WKHP&#x27;]),\n",
       "                                                 (&#x27;cat&#x27;,\n",
       "                                                  OneHotEncoder(handle_unknown=&#x27;ignore&#x27;),\n",
       "                                                  [&#x27;COW&#x27;, &#x27;SCHL&#x27;, &#x27;MAR&#x27;, &#x27;OCCP&#x27;,\n",
       "                                                   &#x27;POBP&#x27;, &#x27;RELP&#x27;,\n",
       "                                                   &#x27;RAC1P&#x27;])])),\n",
       "                (&#x27;classifier&#x27;, GradientBoostingClassifier())])</pre></div></div></div><div class=\"sk-serial\"><div class=\"sk-item sk-dashed-wrapped\"><div class=\"sk-label-container\"><div class=\"sk-label sk-toggleable\"><input class=\"sk-toggleable__control sk-hidden--visually\" id=\"sk-estimator-id-16\" type=\"checkbox\" ><label for=\"sk-estimator-id-16\" class=\"sk-toggleable__label sk-toggleable__label-arrow\">preprocessor: ColumnTransformer</label><div class=\"sk-toggleable__content\"><pre>ColumnTransformer(transformers=[(&#x27;num&#x27;, RobustScaler(), [&#x27;AGEP&#x27;, &#x27;WKHP&#x27;]),\n",
       "                                (&#x27;cat&#x27;, OneHotEncoder(handle_unknown=&#x27;ignore&#x27;),\n",
       "                                 [&#x27;COW&#x27;, &#x27;SCHL&#x27;, &#x27;MAR&#x27;, &#x27;OCCP&#x27;, &#x27;POBP&#x27;, &#x27;RELP&#x27;,\n",
       "                                  &#x27;RAC1P&#x27;])])</pre></div></div></div><div class=\"sk-parallel\"><div class=\"sk-parallel-item\"><div class=\"sk-item\"><div class=\"sk-label-container\"><div class=\"sk-label sk-toggleable\"><input class=\"sk-toggleable__control sk-hidden--visually\" id=\"sk-estimator-id-17\" type=\"checkbox\" ><label for=\"sk-estimator-id-17\" class=\"sk-toggleable__label sk-toggleable__label-arrow\">num</label><div class=\"sk-toggleable__content\"><pre>[&#x27;AGEP&#x27;, &#x27;WKHP&#x27;]</pre></div></div></div><div class=\"sk-serial\"><div class=\"sk-item\"><div class=\"sk-estimator sk-toggleable\"><input class=\"sk-toggleable__control sk-hidden--visually\" id=\"sk-estimator-id-18\" type=\"checkbox\" ><label for=\"sk-estimator-id-18\" class=\"sk-toggleable__label sk-toggleable__label-arrow\">RobustScaler</label><div class=\"sk-toggleable__content\"><pre>RobustScaler()</pre></div></div></div></div></div></div><div class=\"sk-parallel-item\"><div class=\"sk-item\"><div class=\"sk-label-container\"><div class=\"sk-label sk-toggleable\"><input class=\"sk-toggleable__control sk-hidden--visually\" id=\"sk-estimator-id-19\" type=\"checkbox\" ><label for=\"sk-estimator-id-19\" class=\"sk-toggleable__label sk-toggleable__label-arrow\">cat</label><div class=\"sk-toggleable__content\"><pre>[&#x27;COW&#x27;, &#x27;SCHL&#x27;, &#x27;MAR&#x27;, &#x27;OCCP&#x27;, &#x27;POBP&#x27;, &#x27;RELP&#x27;, &#x27;RAC1P&#x27;]</pre></div></div></div><div class=\"sk-serial\"><div class=\"sk-item\"><div class=\"sk-estimator sk-toggleable\"><input class=\"sk-toggleable__control sk-hidden--visually\" id=\"sk-estimator-id-20\" type=\"checkbox\" ><label for=\"sk-estimator-id-20\" class=\"sk-toggleable__label sk-toggleable__label-arrow\">OneHotEncoder</label><div class=\"sk-toggleable__content\"><pre>OneHotEncoder(handle_unknown=&#x27;ignore&#x27;)</pre></div></div></div></div></div></div></div></div><div class=\"sk-item\"><div class=\"sk-estimator sk-toggleable\"><input class=\"sk-toggleable__control sk-hidden--visually\" id=\"sk-estimator-id-21\" type=\"checkbox\" ><label for=\"sk-estimator-id-21\" class=\"sk-toggleable__label sk-toggleable__label-arrow\">GradientBoostingClassifier</label><div class=\"sk-toggleable__content\"><pre>GradientBoostingClassifier()</pre></div></div></div></div></div></div></div>"
      ]
     },
     "metadata": {},
     "output_type": "display_data"
    }
   ],
   "metadata": {
    "datalore": {
     "node_id": "LYsOg756OIyFa8IwU1w0b4",
     "type": "CODE",
     "hide_input_from_viewers": true,
     "hide_output_from_viewers": true
    }
   }
  },
  {
   "cell_type": "code",
   "source": [
    "from sklearn.neighbors import KNeighborsClassifier\n",
    "from sklearn.linear_model import LogisticRegression\n",
    "\n",
    "\n",
    "param_grid_GBC = { \n",
    "    'classifier__n_estimators' : np.arange(1,401,50),\n",
    "    'classifier__learning_rate' : np.arange(0.0,2.0, 0.2),\n",
    "    'classifier__min_samples_split' : np.arange(2,22, 5),\n",
    "    'classifier__criterion' : ['friedman_mse', 'squared_error']\n",
    "}\n",
    "\n",
    "grid_GBC = GridSearchCV(modelGBC,param_grid_GBC,cv=5, verbose=2)\n",
    "\n",
    "\n",
    "grid_GBC.fit(X_train, y_train[\"PINCP\"])\n",
    "\n",
    "predict = grid_GBC.predict(X_test)\n",
    "accuracy_score_gbc = accuracy_score(y_test[\"PINCP\"], predict)\n",
    "print(\"Score training: \", grid_GBC.best_score_)\n",
    "print(\"Accuracy test: \", accuracy_score_gbc)\n",
    "print(\"Best parameters : \", grid_GBC.best_params_)\n",
    "\n",
    "best_model = grid_GBC.best_estimator_\n",
    "dump(best_model, 'model_GBC.joblib')"
   ],
   "execution_count": null,
   "outputs": [],
   "metadata": {
    "datalore": {
     "node_id": "rqYp3i0iY57marMfEpBZ3w",
     "type": "CODE",
     "hide_input_from_viewers": true,
     "hide_output_from_viewers": true
    }
   }
  },
  {
   "cell_type": "code",
   "source": [
    "model_GBC = load(\"/data/notebook_files/model_GBC.joblib\")\n",
    "predict = model_GBC.predict(X_test)\n",
    "accuracy_score_gbc = accuracy_score(y_test[\"PINCP\"], predict)\n",
    "print(\"Accuracy test: \", accuracy_score_gbc)\n",
    "confusion_matrix_gbc = confusion_matrix(y_test,predict)\n",
    "print(confusion_matrix_gbc)\n",
    "print(classification_report(y_test[\"PINCP\"], predict, labels=[0,1]))\n"
   ],
   "execution_count": 15,
   "outputs": [
    {
     "name": "stdout",
     "text": [
      "Accuracy test:  0.7897955706984667\n",
      "[[29030  5582]\n",
      " [ 6757 17331]]\n",
      "              precision    recall  f1-score   support\n",
      "\n",
      "           0       0.81      0.84      0.82     34612\n",
      "           1       0.76      0.72      0.74     24088\n",
      "\n",
      "    accuracy                           0.79     58700\n",
      "   macro avg       0.78      0.78      0.78     58700\n",
      "weighted avg       0.79      0.79      0.79     58700\n"
     ],
     "output_type": "stream"
    }
   ],
   "metadata": {
    "datalore": {
     "node_id": "Bebokm98hZMwEk3zG03FbF",
     "type": "CODE",
     "hide_input_from_viewers": true,
     "hide_output_from_viewers": true
    }
   }
  },
  {
   "cell_type": "code",
   "source": [
    "dataset_name: str =\"/data/notebook_files/acsincome_co_allfeaturesTP2.csv\"\n",
    "dataset_path: str = os.path.join(dataset_name)\n",
    "print(f\"Dataset directory: {dataset_path}\")\n",
    "X_all : pd.DataFrame = pd.read_csv(dataset_path)\n",
    "output_name = \"/data/notebook_files/acsincome_co_labelTP2.csv\"\n",
    "output_path = os.path.join(output_name)\n",
    "y_all : pd.DataFrame = pd.read_csv(output_path)\n",
    "\n",
    "\n",
    "model_GBC = load('/data/notebook_files/model_GBC.joblib')\n",
    "predict = model_GBC.predict(X_all)\n",
    "accuracy_score_gbc_co = accuracy_score(y_all[\"PINCP\"], predict)\n",
    "print(\"Accuracy test on colorado: \", accuracy_score_gbc_co)"
   ],
   "execution_count": 78,
   "outputs": [
    {
     "name": "stdout",
     "text": [
      "Dataset directory: /data/notebook_files/acsincome_co_allfeaturesTP2.csv\n",
      "Accuracy test on colorado:  0.6835430907813199\n"
     ],
     "output_type": "stream"
    }
   ],
   "metadata": {
    "datalore": {
     "node_id": "QxXYkFyT6e2wV9seCpM0lG",
     "type": "CODE",
     "hide_input_from_viewers": true,
     "hide_output_from_viewers": true
    }
   }
  },
  {
   "cell_type": "code",
   "source": [
    "dataset_name: str =\"/data/notebook_files/acsincome_ne_allfeaturesTP2.csv\"\n",
    "dataset_path: str = os.path.join(dataset_name)\n",
    "print(f\"Dataset directory: {dataset_path}\")\n",
    "X_all : pd.DataFrame = pd.read_csv(dataset_path)\n",
    "output_name = \"/data/notebook_files/acsincome_ne_labelTP2.csv\"\n",
    "output_path = os.path.join(output_name)\n",
    "y_all : pd.DataFrame = pd.read_csv(output_path)\n",
    "\n",
    "\n",
    "model_GBC = load('/data/notebook_files/model_GBC.joblib')\n",
    "predict = model_GBC.predict(X_all)\n",
    "accuracy_score_gbc_ne = accuracy_score(y_all[\"PINCP\"], predict)\n",
    "print(\"Accuracy test on nevada: \", accuracy_score_gbc_ne)"
   ],
   "execution_count": 79,
   "outputs": [
    {
     "name": "stdout",
     "text": [
      "Dataset directory: /data/notebook_files/acsincome_ne_allfeaturesTP2.csv\n",
      "Accuracy test on nevada:  0.7353732035234122\n"
     ],
     "output_type": "stream"
    }
   ],
   "metadata": {
    "datalore": {
     "node_id": "wCWUq1s3NHyzsbRCB4KGQD",
     "type": "CODE",
     "hide_input_from_viewers": true,
     "hide_output_from_viewers": true
    }
   }
  },
  {
   "cell_type": "code",
   "source": [
    "import seaborn as sns\n",
    "merged_data = pd.concat([X_train, y_train], axis=1)\n",
    "print(y_train.shape)\n",
    "cor = merged_data.corr()\n",
    "sns.heatmap(cor, annot=True, cmap=plt.cm.Reds)"
   ],
   "execution_count": 9,
   "outputs": [
    {
     "name": "stdout",
     "text": [
      "(1369, 1)\n"
     ],
     "output_type": "stream"
    },
    {
     "data": {
      "text/plain": [
       "<Axes: >"
      ]
     },
     "metadata": {},
     "output_type": "display_data"
    },
    {
     "data": {
      "image/png": "[encoded data removed]"
     },
     "metadata": {
      "image/png": {}
     },
     "output_type": "display_data"
    }
   ],
   "metadata": {
    "datalore": {
     "node_id": "Rm05heswgZypXUIMk4MT3P",
     "type": "CODE",
     "hide_input_from_viewers": true,
     "hide_output_from_viewers": true
    }
   }
  },
  {
   "cell_type": "code",
   "source": [
    "#On observe que que les features que sont le plus corrélé avec le label sont celles le plus foncé dans la ligne PINCP, ou les plus claire. Ici, on observe  une corrélation au niveau de OCCP, SCHL et WKHP. \n",
    "#Ces features correspondent à l'occupation, leur graduation scolaire, et le nombre moyen d'heure de travail par semaine"
   ],
   "execution_count": null,
   "outputs": [],
   "metadata": {
    "datalore": {
     "node_id": "KwuTVAdf89gJ9UShgN4p7h",
     "type": "CODE",
     "hide_input_from_viewers": true,
     "hide_output_from_viewers": true
    }
   }
  },
  {
   "cell_type": "code",
   "source": [
    "from joblib import load\n",
    "\n",
    "model_SVM = load(\"/data/notebook_files/model_SVM.joblib\")\n",
    "\n",
    "testSVM = pd.DataFrame(X_test)\n",
    "predictSVM = model_SVM.predict(X_test)\n",
    "testSVM['PINCP'] = predictSVM\n",
    "cor = testSVM.corr()\n",
    "sns.heatmap(cor, annot=True, cmap=plt.cm.YlGnBu)"
   ],
   "execution_count": 10,
   "outputs": [
    {
     "data": {
      "text/plain": [
       "<Axes: >"
      ]
     },
     "metadata": {},
     "output_type": "display_data"
    },
    {
     "data": {
      "image/png": "[encoded data removed]"
     },
     "metadata": {
      "image/png": {}
     },
     "output_type": "display_data"
    }
   ],
   "metadata": {
    "datalore": {
     "node_id": "uyzeCegb7Yol6jARPx2k39",
     "type": "CODE",
     "hide_input_from_viewers": true,
     "hide_output_from_viewers": true
    }
   }
  },
  {
   "cell_type": "code",
   "source": [
    "#On observe une similarité pour les features importantes"
   ],
   "execution_count": null,
   "outputs": [],
   "metadata": {
    "datalore": {
     "node_id": "JswuNHns6qt1JjhAFuWvBH",
     "type": "CODE",
     "hide_input_from_viewers": true,
     "hide_output_from_viewers": true
    }
   }
  },
  {
   "cell_type": "code",
   "source": [
    "from joblib import load\n",
    "\n",
    "model_ADA = load(\"/data/notebook_files/model_ADA.joblib\")\n",
    "testADA = pd.DataFrame(X_test)\n",
    "predictAda = model_ADA.predict(X_test)\n",
    "testADA['PINCP'] = predictAda\n",
    "cor = testADA.corr()\n",
    "sns.heatmap(cor, annot=True, cmap=plt.cm.Greens)\n",
    "\n"
   ],
   "execution_count": 62,
   "outputs": [
    {
     "data": {
      "text/plain": [
       "<Axes: >"
      ]
     },
     "metadata": {},
     "output_type": "display_data"
    },
    {
     "data": {
      "image/png": "[encoded data removed]"
     },
     "metadata": {
      "image/png": {}
     },
     "output_type": "display_data"
    }
   ],
   "metadata": {
    "datalore": {
     "node_id": "xdfjiqLOuJdUtVJJNaJaMC",
     "type": "CODE",
     "hide_input_from_viewers": true,
     "hide_output_from_viewers": true
    }
   }
  },
  {
   "cell_type": "code",
   "source": [
    "#Ici, on observe qye MAR a une grande importance, c'est celle correspondant au status marital."
   ],
   "execution_count": null,
   "outputs": [],
   "metadata": {
    "datalore": {
     "node_id": "H0ld66643hyK3nPkIFdUzG",
     "type": "CODE",
     "hide_input_from_viewers": true,
     "hide_output_from_viewers": true
    }
   }
  },
  {
   "cell_type": "code",
   "source": [
    "\n",
    "model_RF = load(\"/data/notebook_files/model_RF.joblib\")\n",
    "\n",
    "predictRf = model_RF.predict(X_test)\n",
    "testRF = pd.DataFrame(X_test)\n",
    "testRF['PINCP'] = predictRf\n",
    "cor = pd.DataFrame(testRF).corr()\n",
    "sns.heatmap(cor, annot=True, cmap=plt.cm.Blues)"
   ],
   "execution_count": 94,
   "outputs": [
    {
     "data": {
      "text/plain": [
       "<Axes: >"
      ]
     },
     "metadata": {},
     "output_type": "display_data"
    },
    {
     "data": {
      "image/png": "[encoded data removed]"
     },
     "metadata": {
      "image/png": {}
     },
     "output_type": "display_data"
    }
   ],
   "metadata": {
    "datalore": {
     "node_id": "plVfTWIKgLRUJPd4lfsYe4",
     "type": "CODE",
     "hide_input_from_viewers": true,
     "hide_output_from_viewers": true
    }
   }
  },
  {
   "cell_type": "code",
   "source": [
    "#Comme celle initiale"
   ],
   "execution_count": null,
   "outputs": [],
   "metadata": {
    "datalore": {
     "node_id": "1CG3sRFso6m1gFjTBDBB7I",
     "type": "CODE",
     "hide_input_from_viewers": true,
     "hide_output_from_viewers": true
    }
   }
  },
  {
   "cell_type": "code",
   "source": [
    "\n",
    "model_GBC = load(\"/data/notebook_files/model_GBC.joblib\")\n",
    "\n",
    "testGBC = pd.DataFrame(X_test)\n",
    "predictGBC = model_GBC.predict(X_test)\n",
    "pdPredictGBC = pd.DataFrame(predictGBC)\n",
    "testGBC['PINCP'] = predictGBC\n",
    "cor = testGBC.corr()\n",
    "sns.heatmap(cor, annot=True, cmap=plt.cm.pink)"
   ],
   "execution_count": 57,
   "outputs": [
    {
     "data": {
      "text/plain": [
       "<Axes: >"
      ]
     },
     "metadata": {},
     "output_type": "display_data"
    },
    {
     "data": {
      "image/png": "[encoded data removed]"
     },
     "metadata": {
      "image/png": {}
     },
     "output_type": "display_data"
    }
   ],
   "metadata": {
    "datalore": {
     "node_id": "NJEojONdKobLgt8jgDCZYw",
     "type": "CODE",
     "hide_input_from_viewers": true,
     "hide_output_from_viewers": true
    }
   }
  },
  {
   "cell_type": "code",
   "source": [
    "#Comme celle initiale"
   ],
   "execution_count": null,
   "outputs": [],
   "metadata": {
    "datalore": {
     "node_id": "v9Vv30lfc7ii8JjM6O6LVh",
     "type": "CODE",
     "hide_input_from_viewers": true,
     "hide_output_from_viewers": true
    }
   }
  },
  {
   "cell_type": "code",
   "source": [
    "from sklearn.inspection import permutation_importance"
   ],
   "execution_count": 63,
   "outputs": [],
   "metadata": {
    "datalore": {
     "node_id": "xMAqzlOFsat5Owd4HPtpeO",
     "type": "CODE",
     "hide_input_from_viewers": true,
     "hide_output_from_viewers": true
    }
   }
  },
  {
   "cell_type": "code",
   "source": [
    "r = permutation_importance(model_ADA, X_test, y_test,n_repeats=30,random_state=0)\n",
    "for i in r.importances_mean.argsort()[::-1]:\n",
    "     if r.importances_mean[i] - 2 * r.importances_std[i] > 0:\n",
    "         print(f\"{X.columns[i]:<8}\" f\"{r.importances_mean[i]:.3f}\" f\" +/- {r.importances_std[i]:.3f}\")\n",
    "\n",
    "#Ici, on observe que la feature la plus importante vient de l'éducation, puis de taux de travail par semaine. On observe notamment que le sexe a un impact."
   ],
   "execution_count": 74,
   "outputs": [
    {
     "name": "stdout",
     "text": [
      "SCHL    0.074 +/- 0.013\n",
      "WKHP    0.050 +/- 0.011\n",
      "RELP    0.029 +/- 0.010\n",
      "POBP    0.029 +/- 0.009\n",
      "MAR     0.025 +/- 0.009\n",
      "SEX     0.016 +/- 0.007\n"
     ],
     "output_type": "stream"
    }
   ],
   "metadata": {
    "datalore": {
     "node_id": "yTeN0hST2yO5fNCKX6d7V0",
     "type": "CODE",
     "hide_input_from_viewers": true,
     "hide_output_from_viewers": true
    }
   }
  },
  {
   "cell_type": "code",
   "source": [
    "r = permutation_importance(model_GBC, X_test, y_test,n_repeats=30,random_state=0)\n",
    "for i in r.importances_mean.argsort()[::-1]:\n",
    "     if r.importances_mean[i] - 2 * r.importances_std[i] > 0:\n",
    "         print(f\"{X.columns[i]:<8}\" f\"{r.importances_mean[i]:.3f}\" f\" +/- {r.importances_std[i]:.3f}\")\n",
    "#Ici, le plus important semble être l'occupation, puis l'éducation."
   ],
   "execution_count": 80,
   "outputs": [
    {
     "name": "stdout",
     "text": [
      "OCCP    0.111 +/- 0.010\n",
      "SCHL    0.089 +/- 0.010\n",
      "WKHP    0.061 +/- 0.008\n",
      "POBP    0.039 +/- 0.009\n",
      "AGEP    0.027 +/- 0.008\n",
      "RELP    0.024 +/- 0.005\n",
      "COW     0.020 +/- 0.005\n",
      "MAR     0.019 +/- 0.007\n"
     ],
     "output_type": "stream"
    }
   ],
   "metadata": {
    "datalore": {
     "node_id": "cHTZpT0VjWrLXs2cET3m33",
     "type": "CODE",
     "hide_input_from_viewers": true,
     "hide_output_from_viewers": true
    }
   }
  },
  {
   "cell_type": "code",
   "source": [
    "r = permutation_importance(model_RF, X_test, y_test,n_repeats=30,random_state=0)\n",
    "for i in r.importances_mean.argsort()[::-1]:\n",
    "     if r.importances_mean[i] - 2 * r.importances_std[i] > 0:\n",
    "         print(f\"{X.columns[i]:<8}\" f\"{r.importances_mean[i]:.3f}\" f\" +/- {r.importances_std[i]:.3f}\")\n",
    "#Education, occupation, sex et race sont aussi important"
   ],
   "execution_count": 81,
   "outputs": [
    {
     "name": "stdout",
     "text": [
      "SCHL    0.104 +/- 0.009\n",
      "OCCP    0.064 +/- 0.005\n",
      "WKHP    0.064 +/- 0.008\n",
      "MAR     0.059 +/- 0.009\n",
      "RELP    0.055 +/- 0.007\n",
      "POBP    0.038 +/- 0.007\n",
      "AGEP    0.035 +/- 0.008\n",
      "SEX     0.032 +/- 0.007\n",
      "RAC1P   0.024 +/- 0.007\n",
      "COW     0.016 +/- 0.005\n"
     ],
     "output_type": "stream"
    }
   ],
   "metadata": {
    "datalore": {
     "node_id": "onYbtoRyySnkilEbspS7FJ",
     "type": "CODE",
     "hide_input_from_viewers": true,
     "hide_output_from_viewers": true
    }
   }
  },
  {
   "cell_type": "code",
   "source": [
    "r = permutation_importance(model_SVM, X_test, y_test,n_repeats=30,random_state=0)\n",
    "for i in r.importances_mean.argsort()[::-1]:\n",
    "     if r.importances_mean[i] - 2 * r.importances_std[i] > 0:\n",
    "         print(f\"{X.columns[i]:<8}\" f\"{r.importances_mean[i]:.3f}\" f\" +/- {r.importances_std[i]:.3f}\")\n",
    "#Education beaucoup, et Taux de travail."
   ],
   "execution_count": 82,
   "outputs": [
    {
     "name": "stdout",
     "text": [
      "SCHL    0.072 +/- 0.012\n",
      "WKHP    0.034 +/- 0.009\n",
      "OCCP    0.028 +/- 0.008\n",
      "RELP    0.023 +/- 0.009\n",
      "POBP    0.020 +/- 0.007\n"
     ],
     "output_type": "stream"
    }
   ],
   "metadata": {
    "datalore": {
     "node_id": "VXJ9jCGBiolUoFMAQcFcYx",
     "type": "CODE",
     "hide_input_from_viewers": true,
     "hide_output_from_viewers": true
    }
   }
  },
  {
   "cell_type": "code",
   "source": [
    "#Equité :"
   ],
   "execution_count": null,
   "outputs": [],
   "metadata": {
    "datalore": {
     "node_id": "wnBdRxEIQFvgT9Zn4LDq5s",
     "type": "CODE",
     "hide_input_from_viewers": true,
     "hide_output_from_viewers": true
    }
   }
  },
  {
   "cell_type": "code",
   "source": [
    "\n",
    "\n",
    "model_SVM = load(\"/data/notebook_files/model_SVM.joblib\")\n",
    "\n",
    "def sex_confusion_matrix(model) :\n",
    "    X_test_homme = X_test[X_test['SEX']==1]\n",
    "    y_pred = model.predict(X_test_homme)\n",
    "\n",
    "    y_test_homme = y_test[X_test['SEX']==1]\n",
    "\n",
    "    conf_matrix_homme = confusion_matrix(y_test_homme, y_pred)\n",
    "\n",
    "    print(\"Matrice de confusion homme : \\n\", conf_matrix_homme)\n",
    "\n",
    "    X_test_femme = X_test[X_test['SEX']==2]\n",
    "    y_pred = model.predict(X_test_femme)\n",
    "\n",
    "    y_test_femme = y_test[X_test['SEX']==2]\n",
    "\n",
    "    conf_matrix_femme = confusion_matrix(y_test_femme, y_pred)\n",
    "\n",
    "    print(\"Matrice de confusion femme : \\n\", conf_matrix_femme)\n",
    "    return conf_matrix_homme, conf_matrix_femme"
   ],
   "execution_count": 26,
   "outputs": [],
   "metadata": {
    "datalore": {
     "node_id": "VzcpmTigW7Xp7MPeH9w7cA",
     "type": "CODE",
     "hide_input_from_viewers": true,
     "hide_output_from_viewers": true
    }
   }
  },
  {
   "cell_type": "code",
   "source": [
    "model_SVM = load(\"/data/notebook_files/model_SVM.joblib\")\n",
    "\n",
    "sex_confusion_matrix(model_SVM)"
   ],
   "execution_count": 59,
   "outputs": [
    {
     "name": "stdout",
     "text": [
      "Matrice de confusion homme : \n",
      " [[146  32]\n",
      " [ 33 117]]\n",
      "Matrice de confusion femme : \n",
      " [[149  22]\n",
      " [ 22  66]]\n"
     ],
     "output_type": "stream"
    }
   ],
   "metadata": {
    "datalore": {
     "node_id": "WWIv1zctnaFKsqGSgVby83",
     "type": "CODE",
     "hide_input_from_viewers": true,
     "hide_output_from_viewers": true
    }
   }
  },
  {
   "cell_type": "code",
   "source": [
    "model_ADA = load(\"/data/notebook_files/model_ADA.joblib\")\n",
    "sex_confusion_matrix(model_ADA)"
   ],
   "execution_count": 60,
   "outputs": [
    {
     "name": "stdout",
     "text": [
      "Matrice de confusion homme : \n",
      " [[149  29]\n",
      " [ 35 115]]\n",
      "Matrice de confusion femme : \n",
      " [[155  16]\n",
      " [ 32  56]]\n"
     ],
     "output_type": "stream"
    }
   ],
   "metadata": {
    "datalore": {
     "node_id": "gZsjHKby7Ydq6UT1L4CNeJ",
     "type": "CODE",
     "hide_input_from_viewers": true,
     "hide_output_from_viewers": true
    }
   }
  },
  {
   "cell_type": "code",
   "source": [
    "model_RF = load(\"/data/notebook_files/model_RF.joblib\")\n",
    "sex_confusion_matrix(model_RF)"
   ],
   "execution_count": 61,
   "outputs": [
    {
     "name": "stdout",
     "text": [
      "Matrice de confusion homme : \n",
      " [[160  18]\n",
      " [ 19 131]]\n",
      "Matrice de confusion femme : \n",
      " [[160  11]\n",
      " [ 19  69]]\n"
     ],
     "output_type": "stream"
    }
   ],
   "metadata": {
    "datalore": {
     "node_id": "G0rwhA7eacydx1JNf1bPqG",
     "type": "CODE",
     "hide_input_from_viewers": true,
     "hide_output_from_viewers": true
    }
   }
  },
  {
   "cell_type": "code",
   "source": [
    "model_GBC = load('/data/notebook_files/model_GBC.joblib')\n",
    "sex_confusion_matrix(model_GBC)"
   ],
   "execution_count": 38,
   "outputs": [
    {
     "name": "stdout",
     "text": [
      "Matrice de confusion homme : \n",
      " [[158  14]\n",
      " [ 18 127]]\n",
      "Matrice de confusion femme : \n",
      " [[166  11]\n",
      " [ 14  79]]\n"
     ],
     "output_type": "stream"
    }
   ],
   "metadata": {
    "datalore": {
     "node_id": "4SxEWFnhKU97saMgcYOPFZ",
     "type": "CODE",
     "hide_input_from_viewers": true,
     "hide_output_from_viewers": true
    }
   }
  },
  {
   "cell_type": "code",
   "source": [
    "#On observe que le biais de sex est plus important pour ADA,a plus de false postive, donc on croit que le salaire est bas alors que non. Pour les autres c'est moins marqué mais c'est quand meme le cas."
   ],
   "execution_count": null,
   "outputs": [],
   "metadata": {
    "datalore": {
     "node_id": "EJKZdre8DtLQ2j2blyhAyY",
     "type": "CODE",
     "hide_input_from_viewers": true,
     "hide_output_from_viewers": true
    }
   }
  },
  {
   "cell_type": "code",
   "source": [
    "\n",
    "X_test['SEX'] = 1 \n",
    "\n",
    "model_GBC = load('/data/notebook_files/model_GBC.joblib')\n",
    "predict = model_GBC.predict(X_test)\n",
    "accuracy_score_gbc_ne = accuracy_score(y_test[\"PINCP\"], predict)\n",
    "print(\"Accuracy test en disant que c'est des hommes: \", accuracy_score_gbc_ne)\n",
    "\n",
    "X_test['SEX'] = 2\n",
    "predict = model_GBC.predict(X_test)\n",
    "accuracy_score_gbc_ne = accuracy_score(y_test[\"PINCP\"], predict)\n",
    "print(\"Accuracy test en disant que c'est des femmes: \", accuracy_score_gbc_ne)\n",
    "\n",
    "#Accuracy avant : 0.89437\n",
    "#Score tres legerement plus faible pour les femmes"
   ],
   "execution_count": 33,
   "outputs": [
    {
     "name": "stdout",
     "text": [
      "Accuracy test en disant que c'est des hommes:  0.9045996592844975\n",
      "Accuracy test en disant que c'est des femmes:  0.9011925042589438\n"
     ],
     "output_type": "stream"
    }
   ],
   "metadata": {
    "datalore": {
     "node_id": "IUQsiZmmYmrS4RVHlbi0iU",
     "type": "CODE",
     "hide_input_from_viewers": true,
     "hide_output_from_viewers": true
    }
   }
  },
  {
   "cell_type": "code",
   "source": [
    "X_test['SEX'] = 1 \n",
    "\n",
    "model_SVM = load(\"/data/notebook_files/model_SVM.joblib\")\n",
    "predict = model_SVM.predict(X_test)\n",
    "accuracy_score_hommes = accuracy_score(y_test[\"PINCP\"], predict)\n",
    "print(\"Accuracy test en disant que c'est des hommes: \", accuracy_score_hommes)\n",
    "\n",
    "X_test['SEX'] = 2\n",
    "predict = model_SVM.predict(X_test)\n",
    "accuracy_score_femmes = accuracy_score(y_test[\"PINCP\"], predict)\n",
    "print(\"Accuracy test en disant que c'est des femmes: \", accuracy_score_femmes)\n",
    "\n",
    "#Accuracy avant : 0.804088"
   ],
   "execution_count": 42,
   "outputs": [
    {
     "name": "stdout",
     "text": [
      "Accuracy test en disant que c'est des hommes:  0.8126064735945485\n",
      "Accuracy test en disant que c'est des femmes:  0.8245315161839863\n"
     ],
     "output_type": "stream"
    }
   ],
   "metadata": {
    "datalore": {
     "node_id": "X9oJcM2DtXcewuPWvfxkC7",
     "type": "CODE",
     "hide_input_from_viewers": true,
     "hide_output_from_viewers": true
    }
   }
  },
  {
   "cell_type": "code",
   "source": [
    "X_test['SEX'] = 1 \n",
    "\n",
    "model_ADA = load(\"/data/notebook_files/model_ADA.joblib\")\n",
    "predict = model_ADA.predict(X_test)\n",
    "accuracy_score_hommes = accuracy_score(y_test[\"PINCP\"], predict)\n",
    "print(\"Accuracy test en disant que c'est des hommes: \", accuracy_score_hommes)\n",
    "\n",
    "X_test['SEX'] = 2\n",
    "predict = model_ADA.predict(X_test)\n",
    "accuracy_score_femmes = accuracy_score(y_test[\"PINCP\"], predict)\n",
    "print(\"Accuracy test en disant que c'est des femmes: \", accuracy_score_femmes)\n",
    "\n",
    "#0.79557069846 avant"
   ],
   "execution_count": 43,
   "outputs": [
    {
     "name": "stdout",
     "text": [
      "Accuracy test en disant que c'est des hommes:  0.7904599659284497\n",
      "Accuracy test en disant que c'est des femmes:  0.8040885860306644\n"
     ],
     "output_type": "stream"
    }
   ],
   "metadata": {
    "datalore": {
     "node_id": "FA4X2VDD1IeE1SuHe5YqsI",
     "type": "CODE",
     "hide_input_from_viewers": true,
     "hide_output_from_viewers": true
    }
   }
  },
  {
   "cell_type": "code",
   "source": [
    "X_test['SEX'] = 1 \n",
    "\n",
    "model_RF = load(\"/data/notebook_files/model_RF.joblib\")\n",
    "predict = model_RF.predict(X_test)\n",
    "accuracy_score_hommes = accuracy_score(y_test[\"PINCP\"], predict)\n",
    "print(\"Accuracy test en disant que c'est des hommes: \", accuracy_score_hommes)\n",
    "\n",
    "X_test['SEX'] = 2\n",
    "predict = model_RF.predict(X_test)\n",
    "accuracy_score_femmes = accuracy_score(y_test[\"PINCP\"], predict)\n",
    "print(\"Accuracy test en disant que c'est des femmes: \", accuracy_score_femmes)\n",
    "\n",
    "#Accuracy avant : 0.89097"
   ],
   "execution_count": 44,
   "outputs": [
    {
     "name": "stdout",
     "text": [
      "Accuracy test en disant que c'est des hommes:  0.8722316865417377\n",
      "Accuracy test en disant que c'est des femmes:  0.8705281090289608\n"
     ],
     "output_type": "stream"
    }
   ],
   "metadata": {
    "datalore": {
     "node_id": "IzOYxLyFmoxNEKyUcI4Tp0",
     "type": "CODE",
     "hide_input_from_viewers": true,
     "hide_output_from_viewers": true
    }
   }
  },
  {
   "cell_type": "code",
   "source": [
    "#Il faudra regarder a quel point on a perdu d accuracy en utilisant ces informations"
   ],
   "execution_count": null,
   "outputs": [],
   "metadata": {
    "datalore": {
     "node_id": "jbkNG7CM8okLi50sLu0Ae1",
     "type": "CODE",
     "hide_input_from_viewers": true,
     "hide_output_from_viewers": true
    }
   }
  },
  {
   "cell_type": "code",
   "source": [
    "\n",
    "model_RF = load(\"/data/notebook_files/model_RF.joblib\")\n",
    "\n",
    "\n",
    "def biais_race(model) :\n",
    "    X_new = X_test\n",
    "    for i in range(1,10) :\n",
    "        print(i)\n",
    "        X_test['RAC1P'] = i\n",
    "        predict = model.predict(X_new)\n",
    "        accuracy_score_race = accuracy_score(y_test[\"PINCP\"], predict)\n",
    "        print(\"Accuracy test : \", accuracy_score_race)\n",
    "\n",
    "\n",
    "biais_race(model_RF)"
   ],
   "execution_count": 14,
   "outputs": [
    {
     "name": "stdout",
     "text": [
      "1\n",
      "Accuracy test :  0.8875638841567292\n",
      "2\n",
      "Accuracy test :  0.879045996592845\n",
      "3\n",
      "Accuracy test :  0.8909710391822828\n",
      "4\n",
      "Accuracy test :  0.8858603066439523\n",
      "5\n",
      "Accuracy test :  0.8858603066439523\n",
      "6\n",
      "Accuracy test :  0.8875638841567292\n",
      "7\n",
      "Accuracy test :  0.889267461669506\n",
      "8\n",
      "Accuracy test :  0.7904599659284497\n",
      "9\n",
      "Accuracy test :  0.8875638841567292\n"
     ],
     "output_type": "stream"
    }
   ],
   "metadata": {
    "datalore": {
     "node_id": "BCm3rSAnwikm1MvxE4112n",
     "type": "CODE",
     "hide_input_from_viewers": true,
     "hide_output_from_viewers": true
    }
   }
  },
  {
   "cell_type": "code",
   "source": [
    "model_ADA = load(\"/data/notebook_files/model_ADA.joblib\")\n",
    "biais_race(model_ADA)"
   ],
   "execution_count": 48,
   "outputs": [
    {
     "name": "stdout",
     "text": [
      "1\n",
      "Accuracy test :  0.8143100511073254\n",
      "2\n",
      "Accuracy test :  0.8143100511073254\n",
      "3\n",
      "Accuracy test :  0.8109028960817717\n",
      "4\n",
      "Accuracy test :  0.8143100511073254\n",
      "5\n",
      "Accuracy test :  0.8143100511073254\n",
      "6\n",
      "Accuracy test :  0.8109028960817717\n",
      "7\n",
      "Accuracy test :  0.807495741056218\n",
      "8\n",
      "Accuracy test :  0.7938671209540034\n",
      "9\n",
      "Accuracy test :  0.8109028960817717\n"
     ],
     "output_type": "stream"
    }
   ],
   "metadata": {
    "datalore": {
     "node_id": "fe7A8jdHRXSy6oR3ybWyg7",
     "type": "CODE",
     "hide_input_from_viewers": true,
     "hide_output_from_viewers": true
    }
   }
  },
  {
   "cell_type": "code",
   "source": [
    "\n",
    "model_SVM = load(\"/data/notebook_files/model_SVM.joblib\")\n",
    "biais_race(model_SVM)"
   ],
   "execution_count": 49,
   "outputs": [
    {
     "name": "stdout",
     "text": [
      "1\n",
      "Accuracy test :  0.8347529812606473\n",
      "2\n",
      "Accuracy test :  0.8347529812606473\n",
      "3\n",
      "Accuracy test :  0.8347529812606473\n",
      "4\n",
      "Accuracy test :  0.8364565587734242\n",
      "5\n",
      "Accuracy test :  0.8364565587734242\n",
      "6\n",
      "Accuracy test :  0.82793867120954\n",
      "7\n",
      "Accuracy test :  0.838160136286201\n",
      "8\n",
      "Accuracy test :  0.8330494037478705\n",
      "9\n",
      "Accuracy test :  0.82793867120954\n"
     ],
     "output_type": "stream"
    }
   ],
   "metadata": {
    "datalore": {
     "node_id": "JLx4ZlFoNmDYnAARrjMIla",
     "type": "CODE",
     "hide_input_from_viewers": true,
     "hide_output_from_viewers": true
    }
   }
  },
  {
   "cell_type": "code",
   "source": [
    "model_GBC = load('/data/notebook_files/model_GBC.joblib')\n",
    "biais_race(model_GBC)"
   ],
   "execution_count": 50,
   "outputs": [
    {
     "name": "stdout",
     "text": [
      "1\n",
      "Accuracy test :  0.8943781942078365\n",
      "2\n",
      "Accuracy test :  0.9011925042589438\n",
      "3\n",
      "Accuracy test :  0.8977853492333902\n",
      "4\n",
      "Accuracy test :  0.8977853492333902\n",
      "5\n",
      "Accuracy test :  0.8977853492333902\n",
      "6\n",
      "Accuracy test :  0.8926746166950597\n",
      "7\n",
      "Accuracy test :  0.7734241908006815\n",
      "8\n",
      "Accuracy test :  0.9080068143100511\n",
      "9\n",
      "Accuracy test :  0.8841567291311755\n"
     ],
     "output_type": "stream"
    }
   ],
   "metadata": {
    "datalore": {
     "node_id": "ONac7qkeuhUlkxvQBRRJKx",
     "type": "CODE",
     "hide_input_from_viewers": true,
     "hide_output_from_viewers": true
    }
   }
  },
  {
   "cell_type": "code",
   "source": [
    "def race_confusion_matrix(model) :\n",
    "    X_test_hawai = X_test[X_test['RAC1P']==7]\n",
    "    y_pred = model.predict(X_test_hawai)\n",
    "\n",
    "    y_test_hawai = y_test[X_test['RAC1P']==7]\n",
    "\n",
    "    conf_matrix_hawai = confusion_matrix(y_test_hawai, y_pred)\n",
    "\n",
    "    print(\"Matrice de confusion hawai : \\n\", conf_matrix_hawai)\n",
    "\n",
    "    X_test_twormore = X_test[X_test['RAC1P']==9]\n",
    "    y_pred = model.predict(X_test_twormore)\n",
    "\n",
    "    y_test_twormore = y_test[X_test['RAC1P']==9]\n",
    "\n",
    "    conf_matrix_twormore = confusion_matrix(y_test_twormore, y_pred)\n",
    "\n",
    "    print(\"Matrice de confusion other race alone : \\n\", conf_matrix_twormore)\n",
    "    return conf_matrix_hawai, conf_matrix_twormore\n",
    "\n",
    "model_GBC = load('/data/notebook_files/model_GBC.joblib')\n",
    "mat = race_confusion_matrix(model_GBC)"
   ],
   "execution_count": 45,
   "outputs": [
    {
     "name": "stdout",
     "text": [
      "Matrice de confusion hawai : \n",
      " [[126   5]\n",
      " [ 41   8]]\n",
      "Matrice de confusion other race alone : \n",
      " [[1268  300]\n",
      " [ 196  664]]\n"
     ],
     "output_type": "stream"
    }
   ],
   "metadata": {
    "datalore": {
     "node_id": "QcGY2IrADjn4hDWabYWkjT",
     "type": "CODE",
     "hide_input_from_viewers": true,
     "hide_output_from_viewers": true
    }
   }
  },
  {
   "cell_type": "code",
   "source": [
    "#Pour hawai on observe que l'on croit systématiquement que le salaire est bas. Alors que pour Two or More on est plutôt précis"
   ],
   "execution_count": null,
   "outputs": [],
   "metadata": {
    "datalore": {
     "node_id": "bUte95t21ewlefdw3GLjOz",
     "type": "CODE",
     "hide_input_from_viewers": true,
     "hide_output_from_viewers": true
    }
   }
  },
  {
   "cell_type": "code",
   "source": [
    "\n",
    "model_SVM = load(\"/data/notebook_files/model_SVM.joblib\")\n",
    "race_confusion_matrix(model_SVM)"
   ],
   "execution_count": 6,
   "outputs": [
    {
     "name": "stdout",
     "text": [
      "Matrice de confusion hawai : \n",
      " [[4 0]\n",
      " [1 0]]\n",
      "Matrice de confusion two or more : \n",
      " [[16  1]\n",
      " [ 0  6]]\n"
     ],
     "output_type": "stream"
    }
   ],
   "metadata": {
    "datalore": {
     "node_id": "TEKgAilgXnMbWv4WN45K4r",
     "type": "CODE",
     "hide_input_from_viewers": true,
     "hide_output_from_viewers": true
    }
   }
  },
  {
   "cell_type": "code",
   "source": [
    "model_ADA = load(\"/data/notebook_files/model_ADA.joblib\")\n",
    "race_confusion_matrix(model_ADA)"
   ],
   "execution_count": 8,
   "outputs": [
    {
     "name": "stdout",
     "text": [
      "Matrice de confusion hawai : \n",
      " [[4 0]\n",
      " [1 0]]\n",
      "Matrice de confusion two or more : \n",
      " [[16  1]\n",
      " [ 0  6]]\n"
     ],
     "output_type": "stream"
    }
   ],
   "metadata": {
    "datalore": {
     "node_id": "wx43VQ40WuMLsDvf8XA69N",
     "type": "CODE",
     "hide_input_from_viewers": true,
     "hide_output_from_viewers": true
    }
   }
  },
  {
   "cell_type": "code",
   "source": [
    "model_RF = load(\"/data/notebook_files/model_RF.joblib\")\n",
    "race_confusion_matrix(model_RF)"
   ],
   "execution_count": 10,
   "outputs": [
    {
     "name": "stdout",
     "text": [
      "Matrice de confusion hawai : \n",
      " [[3 1]\n",
      " [1 0]]\n",
      "Matrice de confusion two or more : \n",
      " [[17  0]\n",
      " [ 0  6]]\n"
     ],
     "output_type": "stream"
    }
   ],
   "metadata": {
    "datalore": {
     "node_id": "Qwgb0LH9L6Dj27zlejplhC",
     "type": "CODE",
     "hide_input_from_viewers": true,
     "hide_output_from_viewers": true
    }
   }
  },
  {
   "cell_type": "code",
   "source": [
    "#RF est le seul avec des résultats différents."
   ],
   "execution_count": 11,
   "outputs": [],
   "metadata": {
    "datalore": {
     "node_id": "JfSHxU4lXOOhi88QUKM4eF",
     "type": "CODE",
     "hide_input_from_viewers": true,
     "hide_output_from_viewers": true
    }
   }
  },
  {
   "cell_type": "code",
   "source": [
    "def statistical_parity(matrice1, matrice2) :\n",
    "    print(\"Taux de prédiction négative pour hommes : \", (matrice1[0][0]+matrice1[1][0])/np.sum(matrice1))\n",
    "    print(\"Taux de négatif détecté : \",matrice1[0][0]/np.sum(matrice1[0]))\n",
    "    print(\"Taux de positive détecté : \",matrice1[1][1]/np.sum(matrice1[1]))\n",
    "    print(\"Taux de prédiction négative pour femmes : \", (matrice2[0][0]+matrice2[1][0])/np.sum(matrice2))\n",
    "    print(\"Taux de négatif détecté : \",matrice2[0][0]/np.sum(matrice2[0]))\n",
    "    print(\"Taux de positive détecté : \",matrice2[1][1]/np.sum(matrice2[1]))"
   ],
   "execution_count": 24,
   "outputs": [],
   "metadata": {
    "datalore": {
     "node_id": "JdcpFjFQzItImKb8hyP4hp",
     "type": "CODE",
     "hide_input_from_viewers": true,
     "hide_output_from_viewers": true
    }
   }
  },
  {
   "cell_type": "code",
   "source": [
    "model_GBC = load('/data/notebook_files/model_GBC.joblib')\n",
    "conf = sex_confusion_matrix(model_GBC)\n",
    "statistical_parity(conf[0], conf[1])"
   ],
   "execution_count": 27,
   "outputs": [
    {
     "name": "stdout",
     "text": [
      "Matrice de confusion homme : \n",
      " [[13506  3078]\n",
      " [ 3738 10770]]\n",
      "Matrice de confusion femme : \n",
      " [[15347  2509]\n",
      " [ 3112  6640]]\n",
      "Taux de prédiction négative pour hommes :  0.554612118873022\n",
      "Taux de négatif détecté :  0.8143994211287988\n",
      "Taux de positive détecté :  0.7423490488006617\n",
      "Taux de prédiction négative pour femmes :  0.6686105476673428\n",
      "Taux de négatif détecté :  0.8594870071684588\n",
      "Taux de positive détecté :  0.6808859721082855\n"
     ],
     "output_type": "stream"
    }
   ],
   "metadata": {
    "datalore": {
     "node_id": "mEpKs2ms2BURCjIJGJiSmt",
     "type": "CODE",
     "hide_input_from_viewers": true,
     "hide_output_from_viewers": true
    }
   }
  },
  {
   "cell_type": "code",
   "source": [
    "model_ADA = load('/data/notebook_files/model_ADA.joblib')\n",
    "conf = sex_confusion_matrix(model_ADA)\n",
    "statistical_parity(conf[0], conf[1])"
   ],
   "execution_count": 29,
   "outputs": [
    {
     "name": "stdout",
     "text": [
      "Matrice de confusion homme : \n",
      " [[13327  3257]\n",
      " [ 3672 10836]]\n",
      "Matrice de confusion femme : \n",
      " [[15656  2200]\n",
      " [ 3906  5846]]\n",
      "Taux de prédiction négative pour hommes :  0.5467322783995883\n",
      "Taux de négatif détecté :  0.8036058851905451\n",
      "Taux de positive détecté :  0.7468982630272953\n",
      "Taux de prédiction négative pour femmes :  0.7085627354390032\n",
      "Taux de négatif détecté :  0.8767921146953405\n",
      "Taux de positive détecté :  0.5994667760459393\n"
     ],
     "output_type": "stream"
    }
   ],
   "metadata": {
    "datalore": {
     "node_id": "dzAAG9yg0DreopWcua5nIJ",
     "type": "CODE",
     "hide_input_from_viewers": true,
     "hide_output_from_viewers": true
    }
   }
  },
  {
   "cell_type": "code",
   "source": [
    "model_RF = load('/data/notebook_files/model_RF.joblib')\n",
    "conf = sex_confusion_matrix(model_RF)\n",
    "statistical_parity(conf[0], conf[1])"
   ],
   "execution_count": 30,
   "outputs": [
    {
     "name": "stdout",
     "text": [
      "Matrice de confusion homme : \n",
      " [[13750  2834]\n",
      " [ 3838 10670]]\n",
      "Matrice de confusion femme : \n",
      " [[15899  1957]\n",
      " [ 3637  6115]]\n",
      "Taux de prédiction négative pour hommes :  0.5656760581500064\n",
      "Taux de négatif détecté :  0.8291123974915581\n",
      "Taux de positive détecté :  0.735456299972429\n",
      "Taux de prédiction négative pour femmes :  0.7076209794262532\n",
      "Taux de négatif détecté :  0.8904009856630825\n",
      "Taux de positive détecté :  0.6270508613617719\n"
     ],
     "output_type": "stream"
    }
   ],
   "metadata": {
    "datalore": {
     "node_id": "YsMYL6cxjRcqZjvupMy562",
     "type": "CODE",
     "hide_input_from_viewers": true,
     "hide_output_from_viewers": true
    }
   }
  },
  {
   "cell_type": "code",
   "source": [
    "model_SVM = load('/data/notebook_files/model_SVM.joblib')\n",
    "conf = sex_confusion_matrix(model_SVM)\n",
    "statistical_parity(conf[0], conf[1])"
   ],
   "execution_count": 31,
   "outputs": [
    {
     "name": "stdout",
     "text": [
      "Matrice de confusion homme : \n",
      " [[13713  2871]\n",
      " [ 3957 10551]]\n",
      "Matrice de confusion femme : \n",
      " [[14439  3417]\n",
      " [ 2456  7296]]\n",
      "Taux de prédiction négative pour hommes :  0.5683133925125434\n",
      "Taux de négatif détecté :  0.8268813314037626\n",
      "Taux de positive détecté :  0.727253928866832\n",
      "Taux de prédiction négative pour femmes :  0.611960301361924\n",
      "Taux de négatif détecté :  0.808635752688172\n",
      "Taux de positive détecté :  0.7481542247744053\n"
     ],
     "output_type": "stream"
    }
   ],
   "metadata": {
    "datalore": {
     "node_id": "XUHZwqMOE7AzEXmydxCxlM",
     "type": "CODE",
     "hide_input_from_viewers": true,
     "hide_output_from_viewers": true
    }
   }
  },
  {
   "cell_type": "code",
   "source": [
    "#On observe bien que notre modèle considère que les femmes auront un plus bas salaire."
   ],
   "execution_count": 41,
   "outputs": [],
   "metadata": {
    "datalore": {
     "node_id": "EMD33k2xj0Fe8OnqB3sXJw",
     "type": "CODE",
     "hide_input_from_viewers": true,
     "hide_output_from_viewers": true
    }
   }
  },
  {
   "cell_type": "code",
   "source": [
    "\n",
    "\n",
    "def statistical_parity_race(matrice1, matrice2) :\n",
    "    print(\"Taux de prédiction négative pour hawai : \", (matrice1[0][0]+matrice1[1][0])/np.sum(matrice1))\n",
    "    print(\"Taux de négatif détecté : \",matrice1[0][0]/np.sum(matrice1[0]))\n",
    "    print(\"Taux de positif détecté : \",matrice1[1][1]/np.sum(matrice1[1]))\n",
    "    print(\"Taux de prédiction négative pour other race alone : \", (matrice2[0][0]+matrice2[1][0])/np.sum(matrice2))\n",
    "    print(\"Taux de négatif détecté : \",matrice2[0][0]/np.sum(matrice2[0]))\n",
    "    print(\"Taux de positif détecté : \",matrice2[1][1]/np.sum(matrice2[1]))"
   ],
   "execution_count": 44,
   "outputs": [],
   "metadata": {
    "datalore": {
     "node_id": "k9WmRZSLDpQUO8RVR0Choe",
     "type": "CODE",
     "hide_input_from_viewers": true,
     "hide_output_from_viewers": true
    }
   }
  },
  {
   "cell_type": "code",
   "source": [
    "model_SVM = load('/data/notebook_files/model_SVM.joblib')\n",
    "conf = race_confusion_matrix(model_SVM)\n",
    "statistical_parity_race(conf[0], conf[1])"
   ],
   "execution_count": 46,
   "outputs": [
    {
     "name": "stdout",
     "text": [
      "Matrice de confusion hawai : \n",
      " [[110  21]\n",
      " [ 27  22]]\n",
      "Matrice de confusion other race alone : \n",
      " [[1222  346]\n",
      " [ 177  683]]\n",
      "Taux de prédiction négative pour hawai :  0.7611111111111111\n",
      "Taux de négatif détecté :  0.8396946564885496\n",
      "Taux de positif détecté :  0.4489795918367347\n",
      "Taux de prédiction négative pour other race alone :  0.5761943986820428\n",
      "Taux de négatif détecté :  0.7793367346938775\n",
      "Taux de positif détecté :  0.7941860465116279\n"
     ],
     "output_type": "stream"
    }
   ],
   "metadata": {
    "datalore": {
     "node_id": "PiTVzJ9yW1jOjEHDYEtV42",
     "type": "CODE",
     "hide_input_from_viewers": true,
     "hide_output_from_viewers": true
    }
   }
  },
  {
   "cell_type": "code",
   "source": [
    "model_ADA = load('/data/notebook_files/model_ADA.joblib')\n",
    "conf = race_confusion_matrix(model_ADA)\n",
    "statistical_parity_race(conf[0], conf[1])"
   ],
   "execution_count": 48,
   "outputs": [
    {
     "name": "stdout",
     "text": [
      "Matrice de confusion hawai : \n",
      " [[114  17]\n",
      " [ 29  20]]\n",
      "Matrice de confusion other race alone : \n",
      " [[1319  249]\n",
      " [ 262  598]]\n",
      "Taux de prédiction négative pour hawai :  0.7944444444444444\n",
      "Taux de négatif détecté :  0.8702290076335878\n",
      "Taux de positif détecté :  0.40816326530612246\n",
      "Taux de prédiction négative pour other race alone :  0.6511532125205931\n",
      "Taux de négatif détecté :  0.8411989795918368\n",
      "Taux de positif détecté :  0.6953488372093023\n"
     ],
     "output_type": "stream"
    }
   ],
   "metadata": {
    "datalore": {
     "node_id": "csXGvBsQRUngWSXqjftBtW",
     "type": "CODE",
     "hide_input_from_viewers": true,
     "hide_output_from_viewers": true
    }
   }
  },
  {
   "cell_type": "code",
   "source": [
    "model_RF = load('/data/notebook_files/model_RF.joblib')\n",
    "conf = race_confusion_matrix(model_RF)\n",
    "statistical_parity_race(conf[0], conf[1])"
   ],
   "execution_count": 49,
   "outputs": [
    {
     "name": "stdout",
     "text": [
      "Matrice de confusion hawai : \n",
      " [[118  13]\n",
      " [ 29  20]]\n",
      "Matrice de confusion other race alone : \n",
      " [[1328  240]\n",
      " [ 255  605]]\n",
      "Taux de prédiction négative pour hawai :  0.8166666666666667\n",
      "Taux de négatif détecté :  0.9007633587786259\n",
      "Taux de positif détecté :  0.40816326530612246\n",
      "Taux de prédiction négative pour other race alone :  0.6519769357495881\n",
      "Taux de négatif détecté :  0.8469387755102041\n",
      "Taux de positif détecté :  0.7034883720930233\n"
     ],
     "output_type": "stream"
    }
   ],
   "metadata": {
    "datalore": {
     "node_id": "rJpkN6ohckmZQYe0W41BO5",
     "type": "CODE",
     "hide_input_from_viewers": true,
     "hide_output_from_viewers": true
    }
   }
  },
  {
   "cell_type": "code",
   "source": [
    "model_GBC = load('/data/notebook_files/model_GBC.joblib')\n",
    "conf = race_confusion_matrix(model_GBC)\n",
    "statistical_parity_race(conf[0], conf[1])"
   ],
   "execution_count": 51,
   "outputs": [
    {
     "name": "stdout",
     "text": [
      "Matrice de confusion hawai : \n",
      " [[126   5]\n",
      " [ 41   8]]\n",
      "Matrice de confusion other race alone : \n",
      " [[1268  300]\n",
      " [ 196  664]]\n",
      "Taux de prédiction négative pour hawai :  0.9277777777777778\n",
      "Taux de négatif détecté :  0.9618320610687023\n",
      "Taux de positif détecté :  0.16326530612244897\n",
      "Taux de prédiction négative pour other race alone :  0.6029654036243822\n",
      "Taux de négatif détecté :  0.8086734693877551\n",
      "Taux de positif détecté :  0.772093023255814\n"
     ],
     "output_type": "stream"
    }
   ],
   "metadata": {
    "datalore": {
     "node_id": "hhLNHRTvYkbv3QqMqbpv5v",
     "type": "CODE",
     "hide_input_from_viewers": true,
     "hide_output_from_viewers": true
    }
   }
  },
  {
   "cell_type": "code",
   "source": [
    "#On définit les même choses avec le train\n",
    "\n",
    "def race_confusion_matrix_train(model) :\n",
    "    X_train_hawai = X_train[X_train['RAC1P']==7]\n",
    "    y_pred = model.predict(X_train_hawai)\n",
    "\n",
    "    y_train_hawai = y_train[X_train['RAC1P']==7]\n",
    "\n",
    "    conf_matrix_hawai = confusion_matrix(y_train_hawai, y_pred)\n",
    "\n",
    "    print(\"Matrice de confusion hawai : \\n\", conf_matrix_hawai)\n",
    "\n",
    "    X_train_twormore = X_train[X_train['RAC1P']==8]\n",
    "    y_pred = model.predict(X_train_twormore)\n",
    "\n",
    "    y_train_twormore = y_train[X_train['RAC1P']==8]\n",
    "\n",
    "    conf_matrix_twormore = confusion_matrix(y_train_twormore, y_pred)\n",
    "\n",
    "    print(\"Matrice de confusion other race alone : \\n\", conf_matrix_twormore)\n",
    "    return conf_matrix_hawai, conf_matrix_twormore\n",
    "\n",
    "def sexe_confusion_matrix_train(model) :\n",
    "    X_train_homme = X_train[X_train['SEX']==1]\n",
    "    y_pred = model.predict(X_train_homme)\n",
    "\n",
    "    y_train_homme = y_train[X_train['SEX']==1]\n",
    "\n",
    "    conf_matrix_homme = confusion_matrix(y_train_homme, y_pred)\n",
    "\n",
    "    print(\"Matrice de confusion homme : \\n\", conf_matrix_homme)\n",
    "\n",
    "    X_train_femme = X_train[X_train['SEX']==2]\n",
    "    y_pred = model.predict(X_train_femme)\n",
    "\n",
    "    y_train_femme = y_train[X_train['SEX']==2]\n",
    "\n",
    "    conf_matrix_femme = confusion_matrix(y_train_femme, y_pred)\n",
    "\n",
    "    print(\"Matrice de confusion femme : \\n\", conf_matrix_femme)\n",
    "    return conf_matrix_homme, conf_matrix_femme"
   ],
   "execution_count": 52,
   "outputs": [],
   "metadata": {
    "datalore": {
     "node_id": "sMbC4v3yRJNW6Mb7LwXYkz",
     "type": "CODE",
     "hide_input_from_viewers": true,
     "hide_output_from_viewers": true
    }
   }
  },
  {
   "cell_type": "code",
   "source": [
    "model_SVM = load('/data/notebook_files/model_SVM.joblib')\n",
    "conf = race_confusion_matrix_train(model_SVM)\n",
    "statistical_parity_race(conf[0], conf[1])\n",
    "conf2 = sexe_confusion_matrix_train(model_SVM)\n",
    "statistical_parity(conf2[0], conf2[1])"
   ],
   "execution_count": 53,
   "outputs": [
    {
     "name": "stdout",
     "text": [
      "Matrice de confusion hawai : \n",
      " [[271  45]\n",
      " [ 62  79]]\n",
      "Matrice de confusion other race alone : \n",
      " [[12156   680]\n",
      " [ 2023  1074]]\n",
      "Taux de prédiction négative pour hawai :  0.7286652078774617\n",
      "Taux de négatif détecté :  0.8575949367088608\n",
      "Taux de positif détecté :  0.5602836879432624\n",
      "Taux de prédiction négative pour other race alone :  0.889914014937551\n",
      "Taux de négatif détecté :  0.947023995014023\n",
      "Taux de positif détecté :  0.3467872134323539\n",
      "Matrice de confusion homme : \n",
      " [[31965  6665]\n",
      " [ 9187 24402]]\n",
      "Matrice de confusion femme : \n",
      " [[34219  8041]\n",
      " [ 5764 16722]]\n",
      "Taux de prédiction négative pour hommes :  0.5698223459200488\n",
      "Taux de négatif détecté :  0.8274657002329795\n",
      "Taux de positive détecté :  0.7264878382803894\n",
      "Taux de prédiction négative pour femmes :  0.6175362184536497\n",
      "Taux de négatif détecté :  0.8097255087553242\n",
      "Taux de positive détecté :  0.7436627234723828\n"
     ],
     "output_type": "stream"
    }
   ],
   "metadata": {
    "datalore": {
     "node_id": "kuWQPhWLM5ZLUi9X7WWNyF",
     "type": "CODE",
     "hide_input_from_viewers": true,
     "hide_output_from_viewers": true
    }
   }
  },
  {
   "cell_type": "code",
   "source": [
    "#L'erreur est normal, on découvre que le modèle est biaisé simplement parce qu'il n'y a que des hawaiens positifs dans le modèle"
   ],
   "execution_count": 56,
   "outputs": [],
   "metadata": {
    "datalore": {
     "node_id": "qBihrcGHkuzUVvkxqUpqp4",
     "type": "CODE",
     "hide_input_from_viewers": true,
     "hide_output_from_viewers": true
    }
   }
  },
  {
   "cell_type": "code",
   "source": [
    "conf2 = sexe_confusion_matrix_train(model_SVM)\n",
    "statistical_parity(conf2[0], conf2[1])"
   ],
   "execution_count": 36,
   "outputs": [
    {
     "name": "stdout",
     "text": [
      "Matrice de confusion homme : \n",
      " [[31965  6665]\n",
      " [ 9187 24402]]\n",
      "Matrice de confusion femme : \n",
      " [[34219  8041]\n",
      " [ 5764 16722]]\n",
      "Taux de prédiction négative pour hommes :  0.5698223459200488\n",
      "Taux de négatif détecté :  0.8274657002329795\n",
      "Taux de positive détecté :  0.7264878382803894\n",
      "Taux de prédiction négative pour femmes :  0.6175362184536497\n",
      "Taux de négatif détecté :  0.8097255087553242\n",
      "Taux de positive détecté :  0.7436627234723828\n"
     ],
     "output_type": "stream"
    }
   ],
   "metadata": {
    "datalore": {
     "node_id": "764gvrJugsVgEasusPwcrz",
     "type": "CODE",
     "hide_input_from_viewers": true,
     "hide_output_from_viewers": true
    }
   }
  },
  {
   "cell_type": "code",
   "source": [
    "model_ADA = load('/data/notebook_files/model_ADA.joblib')\n",
    "conf = race_confusion_matrix_train(model_ADA)\n",
    "statistical_parity_race(conf[0], conf[1])\n",
    "conf2 = sexe_confusion_matrix_train(model_ADA)\n",
    "statistical_parity(conf2[0], conf2[1])"
   ],
   "execution_count": 37,
   "outputs": [
    {
     "name": "stdout",
     "text": [
      "Matrice de confusion hawai : \n",
      " [[281  35]\n",
      " [ 75  66]]\n",
      "Matrice de confusion other race alone : \n",
      " [[12346   490]\n",
      " [ 2231   866]]\n",
      "Taux de prédiction négative pour hawai :  0.7789934354485777\n",
      "Taux de négatif détecté :  0.8892405063291139\n",
      "Taux de positif détecté :  0.46808510638297873\n",
      "Taux de prédiction négative pour other race alone :  0.9148936170212766\n",
      "Taux de négatif détecté :  0.9618261140542225\n",
      "Taux de positif détecté :  0.2796254439780433\n",
      "Matrice de confusion homme : \n",
      " [[31117  7513]\n",
      " [ 8582 25007]]\n",
      "Matrice de confusion femme : \n",
      " [[36963  5297]\n",
      " [ 8970 13516]]\n",
      "Taux de prédiction négative pour hommes :  0.5497029867486396\n",
      "Taux de négatif détecté :  0.8055138493398912\n",
      "Taux de positive détecté :  0.7444996873976599\n",
      "Taux de prédiction négative pour femmes :  0.7094337874154388\n",
      "Taux de négatif détecté :  0.8746568859441552\n",
      "Taux de positive détecté :  0.601085119629992\n"
     ],
     "output_type": "stream"
    }
   ],
   "metadata": {
    "datalore": {
     "node_id": "JvcJ8R8V2CJLUdVbltVMDp",
     "type": "CODE",
     "hide_input_from_viewers": true,
     "hide_output_from_viewers": true
    }
   }
  },
  {
   "cell_type": "code",
   "source": [
    "model_GBC = load('/data/notebook_files/model_GBC.joblib')\n",
    "conf = race_confusion_matrix_train(model_GBC)\n",
    "statistical_parity_race(conf[0], conf[1])\n",
    "conf2 = sexe_confusion_matrix_train(model_GBC)\n",
    "statistical_parity(conf2[0], conf2[1])"
   ],
   "execution_count": 38,
   "outputs": [
    {
     "name": "stdout",
     "text": [
      "Matrice de confusion hawai : \n",
      " [[306  10]\n",
      " [115  26]]\n",
      "Matrice de confusion other race alone : \n",
      " [[12099   737]\n",
      " [ 1909  1188]]\n",
      "Taux de prédiction négative pour hawai :  0.9212253829321663\n",
      "Taux de négatif détecté :  0.9683544303797469\n",
      "Taux de positif détecté :  0.18439716312056736\n",
      "Taux de prédiction négative pour other race alone :  0.8791815728362518\n",
      "Taux de négatif détecté :  0.9425833593019632\n",
      "Taux de positif détecté :  0.3835970293832741\n",
      "Matrice de confusion homme : \n",
      " [[31483  7147]\n",
      " [ 8728 24861]]\n",
      "Matrice de confusion femme : \n",
      " [[36385  5875]\n",
      " [ 7219 15267]]\n",
      "Taux de prédiction négative pour hommes :  0.5567925338207397\n",
      "Taux de négatif détecté :  0.8149883510225213\n",
      "Taux de positive détecté :  0.7401530262883682\n",
      "Taux de prédiction négative pour femmes :  0.673462453278967\n",
      "Taux de négatif détecté :  0.8609796497870327\n",
      "Taux de positive détecté :  0.6789557947167126\n"
     ],
     "output_type": "stream"
    }
   ],
   "metadata": {
    "datalore": {
     "node_id": "fBzUSlX8AV127R8NtnLB1m",
     "type": "CODE",
     "hide_input_from_viewers": true,
     "hide_output_from_viewers": true
    }
   }
  },
  {
   "cell_type": "code",
   "source": [
    "model_RF = load('/data/notebook_files/model_RF.joblib')\n",
    "conf = race_confusion_matrix_train(model_RF)\n",
    "statistical_parity_race(conf[0], conf[1])\n",
    "conf2 = sexe_confusion_matrix_train(model_RF)\n",
    "statistical_parity(conf2[0], conf2[1])"
   ],
   "execution_count": 39,
   "outputs": [
    {
     "name": "stdout",
     "text": [
      "Matrice de confusion hawai : \n",
      " [[285  31]\n",
      " [ 74  67]]\n",
      "Matrice de confusion other race alone : \n",
      " [[12634   202]\n",
      " [ 2530   567]]\n",
      "Taux de prédiction négative pour hawai :  0.7855579868708972\n",
      "Taux de négatif détecté :  0.9018987341772152\n",
      "Taux de positif détecté :  0.475177304964539\n",
      "Taux de prédiction négative pour other race alone :  0.9517353919538065\n",
      "Taux de négatif détecté :  0.9842630102835774\n",
      "Taux de positif détecté :  0.18308040038747175\n",
      "Matrice de confusion homme : \n",
      " [[32083  6547]\n",
      " [ 9046 24543]]\n",
      "Matrice de confusion femme : \n",
      " [[37706  4554]\n",
      " [ 8342 14144]]\n",
      "Taux de prédiction négative pour hommes :  0.5695038701726692\n",
      "Taux de négatif détecté :  0.830520320994046\n",
      "Taux de positive détecté :  0.7306856411325137\n",
      "Taux de prédiction négative pour femmes :  0.711209958916381\n",
      "Taux de négatif détecté :  0.892238523426408\n",
      "Taux de positive détecté :  0.6290136084674909\n"
     ],
     "output_type": "stream"
    }
   ],
   "metadata": {
    "datalore": {
     "node_id": "Ogyne2fVASqnnNlnAeoCSG",
     "type": "CODE",
     "hide_input_from_viewers": true,
     "hide_output_from_viewers": true
    }
   }
  },
  {
   "cell_type": "code",
   "source": [
    "X_train_SEX = X_train.drop(['SEX'], axis=1)\n",
    "X_test_SEX = X_test.drop(['SEX'], axis=1)"
   ],
   "execution_count": 6,
   "outputs": [],
   "metadata": {
    "datalore": {
     "node_id": "dgvrG4zWyvnPNmEeqCDOMB",
     "type": "CODE",
     "hide_input_from_viewers": true,
     "hide_output_from_viewers": true
    }
   }
  },
  {
   "cell_type": "code",
   "source": [
    "model_SVM = load('/data/notebook_files/model_SVM.joblib')\n",
    "\n",
    "model_SVM.get_params()"
   ],
   "execution_count": 61,
   "outputs": [
    {
     "data": {
      "text/plain": [
       "{'memory': None,\n",
       " 'steps': [('preprocessor',\n",
       "   ColumnTransformer(transformers=[('num', RobustScaler(), ['AGEP', 'WKHP']),\n",
       "                                   ('cat', OneHotEncoder(handle_unknown='ignore'),\n",
       "                                    ['COW', 'SCHL', 'MAR', 'OCCP', 'POBP', 'RELP',\n",
       "                                     'RAC1P'])])),\n",
       "  ('classifier', SVC(C=0.1, kernel='linear'))],\n",
       " 'verbose': False,\n",
       " 'preprocessor': ColumnTransformer(transformers=[('num', RobustScaler(), ['AGEP', 'WKHP']),\n",
       "                                 ('cat', OneHotEncoder(handle_unknown='ignore'),\n",
       "                                  ['COW', 'SCHL', 'MAR', 'OCCP', 'POBP', 'RELP',\n",
       "                                   'RAC1P'])]),\n",
       " 'classifier': SVC(C=0.1, kernel='linear'),\n",
       " 'preprocessor__n_jobs': None,\n",
       " 'preprocessor__remainder': 'drop',\n",
       " 'preprocessor__sparse_threshold': 0.3,\n",
       " 'preprocessor__transformer_weights': None,\n",
       " 'preprocessor__transformers': [('num', RobustScaler(), ['AGEP', 'WKHP']),\n",
       "  ('cat',\n",
       "   OneHotEncoder(handle_unknown='ignore'),\n",
       "   ['COW', 'SCHL', 'MAR', 'OCCP', 'POBP', 'RELP', 'RAC1P'])],\n",
       " 'preprocessor__verbose': False,\n",
       " 'preprocessor__verbose_feature_names_out': True,\n",
       " 'preprocessor__num': RobustScaler(),\n",
       " 'preprocessor__cat': OneHotEncoder(handle_unknown='ignore'),\n",
       " 'preprocessor__num__copy': True,\n",
       " 'preprocessor__num__quantile_range': (25.0, 75.0),\n",
       " 'preprocessor__num__unit_variance': False,\n",
       " 'preprocessor__num__with_centering': True,\n",
       " 'preprocessor__num__with_scaling': True,\n",
       " 'preprocessor__cat__categories': 'auto',\n",
       " 'preprocessor__cat__drop': None,\n",
       " 'preprocessor__cat__dtype': numpy.float64,\n",
       " 'preprocessor__cat__handle_unknown': 'ignore',\n",
       " 'preprocessor__cat__max_categories': None,\n",
       " 'preprocessor__cat__min_frequency': None,\n",
       " 'preprocessor__cat__sparse': 'deprecated',\n",
       " 'preprocessor__cat__sparse_output': True,\n",
       " 'classifier__C': 0.1,\n",
       " 'classifier__break_ties': False,\n",
       " 'classifier__cache_size': 200,\n",
       " 'classifier__class_weight': None,\n",
       " 'classifier__coef0': 0.0,\n",
       " 'classifier__decision_function_shape': 'ovr',\n",
       " 'classifier__degree': 3,\n",
       " 'classifier__gamma': 'scale',\n",
       " 'classifier__kernel': 'linear',\n",
       " 'classifier__max_iter': -1,\n",
       " 'classifier__probability': False,\n",
       " 'classifier__random_state': None,\n",
       " 'classifier__shrinking': True,\n",
       " 'classifier__tol': 0.001,\n",
       " 'classifier__verbose': False}"
      ]
     },
     "metadata": {},
     "output_type": "display_data"
    }
   ],
   "metadata": {
    "datalore": {
     "node_id": "acel2WNXFdNeM3n10cHrYl",
     "type": "CODE",
     "hide_input_from_viewers": true,
     "hide_output_from_viewers": true
    }
   }
  },
  {
   "cell_type": "code",
   "source": [
    "\n",
    "#Nouveau training sans SEX\n",
    "from sklearn.compose import ColumnTransformer\n",
    "numeric_feature = [\"AGEP\", \"WKHP\"]\n",
    "categorical_features = [\"COW\", \"SCHL\", \"MAR\", \"OCCP\", \"POBP\", \"RELP\", \"RAC1P\"]\n",
    "\n",
    "\n",
    "preprocessor = ColumnTransformer(transformers=[('num', RobustScaler(), numeric_feature),\n",
    "                                               ('cat', OneHotEncoder(handle_unknown='ignore'), categorical_features)\n",
    "                                               ])\n",
    "\n",
    "\n",
    "\n",
    "modelSVM = Pipeline([\n",
    "    ('preprocessor', preprocessor),\n",
    "    ('classifier', SVC())\n",
    "])\n",
    "modelSVM"
   ],
   "execution_count": 82,
   "outputs": [
    {
     "data": {
      "text/html": [
       "<style>#sk-container-id-2 {color: black;background-color: white;}#sk-container-id-2 pre{padding: 0;}#sk-container-id-2 div.sk-toggleable {background-color: white;}#sk-container-id-2 label.sk-toggleable__label {cursor: pointer;display: block;width: 100%;margin-bottom: 0;padding: 0.3em;box-sizing: border-box;text-align: center;}#sk-container-id-2 label.sk-toggleable__label-arrow:before {content: \"▸\";float: left;margin-right: 0.25em;color: #696969;}#sk-container-id-2 label.sk-toggleable__label-arrow:hover:before {color: black;}#sk-container-id-2 div.sk-estimator:hover label.sk-toggleable__label-arrow:before {color: black;}#sk-container-id-2 div.sk-toggleable__content {max-height: 0;max-width: 0;overflow: hidden;text-align: left;background-color: #f0f8ff;}#sk-container-id-2 div.sk-toggleable__content pre {margin: 0.2em;color: black;border-radius: 0.25em;background-color: #f0f8ff;}#sk-container-id-2 input.sk-toggleable__control:checked~div.sk-toggleable__content {max-height: 200px;max-width: 100%;overflow: auto;}#sk-container-id-2 input.sk-toggleable__control:checked~label.sk-toggleable__label-arrow:before {content: \"▾\";}#sk-container-id-2 div.sk-estimator input.sk-toggleable__control:checked~label.sk-toggleable__label {background-color: #d4ebff;}#sk-container-id-2 div.sk-label input.sk-toggleable__control:checked~label.sk-toggleable__label {background-color: #d4ebff;}#sk-container-id-2 input.sk-hidden--visually {border: 0;clip: rect(1px 1px 1px 1px);clip: rect(1px, 1px, 1px, 1px);height: 1px;margin: -1px;overflow: hidden;padding: 0;position: absolute;width: 1px;}#sk-container-id-2 div.sk-estimator {font-family: monospace;background-color: #f0f8ff;border: 1px dotted black;border-radius: 0.25em;box-sizing: border-box;margin-bottom: 0.5em;}#sk-container-id-2 div.sk-estimator:hover {background-color: #d4ebff;}#sk-container-id-2 div.sk-parallel-item::after {content: \"\";width: 100%;border-bottom: 1px solid gray;flex-grow: 1;}#sk-container-id-2 div.sk-label:hover label.sk-toggleable__label {background-color: #d4ebff;}#sk-container-id-2 div.sk-serial::before {content: \"\";position: absolute;border-left: 1px solid gray;box-sizing: border-box;top: 0;bottom: 0;left: 50%;z-index: 0;}#sk-container-id-2 div.sk-serial {display: flex;flex-direction: column;align-items: center;background-color: white;padding-right: 0.2em;padding-left: 0.2em;position: relative;}#sk-container-id-2 div.sk-item {position: relative;z-index: 1;}#sk-container-id-2 div.sk-parallel {display: flex;align-items: stretch;justify-content: center;background-color: white;position: relative;}#sk-container-id-2 div.sk-item::before, #sk-container-id-2 div.sk-parallel-item::before {content: \"\";position: absolute;border-left: 1px solid gray;box-sizing: border-box;top: 0;bottom: 0;left: 50%;z-index: -1;}#sk-container-id-2 div.sk-parallel-item {display: flex;flex-direction: column;z-index: 1;position: relative;background-color: white;}#sk-container-id-2 div.sk-parallel-item:first-child::after {align-self: flex-end;width: 50%;}#sk-container-id-2 div.sk-parallel-item:last-child::after {align-self: flex-start;width: 50%;}#sk-container-id-2 div.sk-parallel-item:only-child::after {width: 0;}#sk-container-id-2 div.sk-dashed-wrapped {border: 1px dashed gray;margin: 0 0.4em 0.5em 0.4em;box-sizing: border-box;padding-bottom: 0.4em;background-color: white;}#sk-container-id-2 div.sk-label label {font-family: monospace;font-weight: bold;display: inline-block;line-height: 1.2em;}#sk-container-id-2 div.sk-label-container {text-align: center;}#sk-container-id-2 div.sk-container {/* jupyter's `normalize.less` sets `[hidden] { display: none; }` but bootstrap.min.css set `[hidden] { display: none !important; }` so we also need the `!important` here to be able to override the default hidden behavior on the sphinx rendered scikit-learn.org. See: https://github.com/scikit-learn/scikit-learn/issues/21755 */display: inline-block !important;position: relative;}#sk-container-id-2 div.sk-text-repr-fallback {display: none;}</style><div id=\"sk-container-id-2\" class=\"sk-top-container\"><div class=\"sk-text-repr-fallback\"><pre>Pipeline(steps=[(&#x27;preprocessor&#x27;,\n",
       "                 ColumnTransformer(transformers=[(&#x27;num&#x27;, RobustScaler(),\n",
       "                                                  [&#x27;AGEP&#x27;, &#x27;WKHP&#x27;]),\n",
       "                                                 (&#x27;cat&#x27;,\n",
       "                                                  OneHotEncoder(handle_unknown=&#x27;ignore&#x27;),\n",
       "                                                  [&#x27;COW&#x27;, &#x27;SCHL&#x27;, &#x27;MAR&#x27;, &#x27;OCCP&#x27;,\n",
       "                                                   &#x27;POBP&#x27;, &#x27;RELP&#x27;,\n",
       "                                                   &#x27;RAC1P&#x27;])])),\n",
       "                (&#x27;classifier&#x27;, SVC())])</pre><b>In a Jupyter environment, please rerun this cell to show the HTML representation or trust the notebook. <br />On GitHub, the HTML representation is unable to render, please try loading this page with nbviewer.org.</b></div><div class=\"sk-container\" hidden><div class=\"sk-item sk-dashed-wrapped\"><div class=\"sk-label-container\"><div class=\"sk-label sk-toggleable\"><input class=\"sk-toggleable__control sk-hidden--visually\" id=\"sk-estimator-id-8\" type=\"checkbox\" ><label for=\"sk-estimator-id-8\" class=\"sk-toggleable__label sk-toggleable__label-arrow\">Pipeline</label><div class=\"sk-toggleable__content\"><pre>Pipeline(steps=[(&#x27;preprocessor&#x27;,\n",
       "                 ColumnTransformer(transformers=[(&#x27;num&#x27;, RobustScaler(),\n",
       "                                                  [&#x27;AGEP&#x27;, &#x27;WKHP&#x27;]),\n",
       "                                                 (&#x27;cat&#x27;,\n",
       "                                                  OneHotEncoder(handle_unknown=&#x27;ignore&#x27;),\n",
       "                                                  [&#x27;COW&#x27;, &#x27;SCHL&#x27;, &#x27;MAR&#x27;, &#x27;OCCP&#x27;,\n",
       "                                                   &#x27;POBP&#x27;, &#x27;RELP&#x27;,\n",
       "                                                   &#x27;RAC1P&#x27;])])),\n",
       "                (&#x27;classifier&#x27;, SVC())])</pre></div></div></div><div class=\"sk-serial\"><div class=\"sk-item sk-dashed-wrapped\"><div class=\"sk-label-container\"><div class=\"sk-label sk-toggleable\"><input class=\"sk-toggleable__control sk-hidden--visually\" id=\"sk-estimator-id-9\" type=\"checkbox\" ><label for=\"sk-estimator-id-9\" class=\"sk-toggleable__label sk-toggleable__label-arrow\">preprocessor: ColumnTransformer</label><div class=\"sk-toggleable__content\"><pre>ColumnTransformer(transformers=[(&#x27;num&#x27;, RobustScaler(), [&#x27;AGEP&#x27;, &#x27;WKHP&#x27;]),\n",
       "                                (&#x27;cat&#x27;, OneHotEncoder(handle_unknown=&#x27;ignore&#x27;),\n",
       "                                 [&#x27;COW&#x27;, &#x27;SCHL&#x27;, &#x27;MAR&#x27;, &#x27;OCCP&#x27;, &#x27;POBP&#x27;, &#x27;RELP&#x27;,\n",
       "                                  &#x27;RAC1P&#x27;])])</pre></div></div></div><div class=\"sk-parallel\"><div class=\"sk-parallel-item\"><div class=\"sk-item\"><div class=\"sk-label-container\"><div class=\"sk-label sk-toggleable\"><input class=\"sk-toggleable__control sk-hidden--visually\" id=\"sk-estimator-id-10\" type=\"checkbox\" ><label for=\"sk-estimator-id-10\" class=\"sk-toggleable__label sk-toggleable__label-arrow\">num</label><div class=\"sk-toggleable__content\"><pre>[&#x27;AGEP&#x27;, &#x27;WKHP&#x27;]</pre></div></div></div><div class=\"sk-serial\"><div class=\"sk-item\"><div class=\"sk-estimator sk-toggleable\"><input class=\"sk-toggleable__control sk-hidden--visually\" id=\"sk-estimator-id-11\" type=\"checkbox\" ><label for=\"sk-estimator-id-11\" class=\"sk-toggleable__label sk-toggleable__label-arrow\">RobustScaler</label><div class=\"sk-toggleable__content\"><pre>RobustScaler()</pre></div></div></div></div></div></div><div class=\"sk-parallel-item\"><div class=\"sk-item\"><div class=\"sk-label-container\"><div class=\"sk-label sk-toggleable\"><input class=\"sk-toggleable__control sk-hidden--visually\" id=\"sk-estimator-id-12\" type=\"checkbox\" ><label for=\"sk-estimator-id-12\" class=\"sk-toggleable__label sk-toggleable__label-arrow\">cat</label><div class=\"sk-toggleable__content\"><pre>[&#x27;COW&#x27;, &#x27;SCHL&#x27;, &#x27;MAR&#x27;, &#x27;OCCP&#x27;, &#x27;POBP&#x27;, &#x27;RELP&#x27;, &#x27;RAC1P&#x27;]</pre></div></div></div><div class=\"sk-serial\"><div class=\"sk-item\"><div class=\"sk-estimator sk-toggleable\"><input class=\"sk-toggleable__control sk-hidden--visually\" id=\"sk-estimator-id-13\" type=\"checkbox\" ><label for=\"sk-estimator-id-13\" class=\"sk-toggleable__label sk-toggleable__label-arrow\">OneHotEncoder</label><div class=\"sk-toggleable__content\"><pre>OneHotEncoder(handle_unknown=&#x27;ignore&#x27;)</pre></div></div></div></div></div></div></div></div><div class=\"sk-item\"><div class=\"sk-estimator sk-toggleable\"><input class=\"sk-toggleable__control sk-hidden--visually\" id=\"sk-estimator-id-14\" type=\"checkbox\" ><label for=\"sk-estimator-id-14\" class=\"sk-toggleable__label sk-toggleable__label-arrow\">SVC</label><div class=\"sk-toggleable__content\"><pre>SVC()</pre></div></div></div></div></div></div></div>"
      ]
     },
     "metadata": {},
     "output_type": "display_data"
    }
   ],
   "metadata": {
    "datalore": {
     "node_id": "OcPBQppknmXjRYCKhoVqr9",
     "type": "CODE",
     "hide_input_from_viewers": true,
     "hide_output_from_viewers": true
    }
   }
  },
  {
   "cell_type": "code",
   "source": [
    "from sklearn.model_selection import GridSearchCV\n",
    "from sklearn.model_selection import cross_val_score\n",
    "\n",
    "\n",
    "\n",
    "param_grid_SVM = { \n",
    "    'classifier__C' : [0.1],\n",
    "    'classifier__kernel' : [\"linear\"],\n",
    "    'classifier__shrinking' : [True]\n",
    "}\n",
    "\n",
    "grid_SVM = GridSearchCV(modelSVM,param_grid_SVM,cv=5, verbose=2)"
   ],
   "execution_count": 63,
   "outputs": [
    {
     "ename": "NameError",
     "evalue": "NameError: name 'modelSVM' is not defined",
     "traceback": [
      "\u001B[0;31m---------------------------------------------------------------------------",
      "Traceback (most recent call last)",
      "    at line 12 in <module>",
      "NameError: name 'modelSVM' is not defined"
     ],
     "output_type": "error"
    }
   ],
   "metadata": {
    "datalore": {
     "node_id": "1th81oG1M7FXtGPDpNa8ut",
     "type": "CODE",
     "hide_input_from_viewers": true,
     "hide_output_from_viewers": true
    }
   }
  },
  {
   "cell_type": "code",
   "source": [
    "X_train_SEX = X_train.drop(['SEX'], axis=1)\n",
    "X_test_SEX = X_test.drop(['SEX'], axis=1)\n",
    "grid_SVM.fit(X_train, y_train[\"PINCP\"])\n",
    "best_model = grid_SVM.best_estimator_\n",
    "dump(best_model, '/data/notebook_files/model_SVM_SEX.joblib')"
   ],
   "execution_count": 66,
   "outputs": [
    {
     "ename": "NameError",
     "evalue": "NameError: name 'grid_SVM' is not defined",
     "traceback": [
      "\u001B[0;31m---------------------------------------------------------------------------",
      "Traceback (most recent call last)",
      "    at line 3 in <module>",
      "NameError: name 'grid_SVM' is not defined"
     ],
     "output_type": "error"
    }
   ],
   "metadata": {
    "datalore": {
     "node_id": "lRYw91CzuFIxDcm1PGpu3f",
     "type": "CODE",
     "hide_input_from_viewers": true,
     "hide_output_from_viewers": true
    }
   }
  },
  {
   "cell_type": "code",
   "source": [
    "model_SVM_SEX = load('/data/notebook_files/model_SVM_SEX.joblib')\n",
    "predict = model_SVM_SEX.predict(X_test_SEX)\n",
    "accuracy_score(y_test[\"PINCP\"], predict)\n",
    "#Accuracy avant : 0.804088"
   ],
   "execution_count": 7,
   "outputs": [
    {
     "data": {
      "text/plain": [
       "0.8194207836456558"
      ]
     },
     "metadata": {},
     "output_type": "display_data"
    }
   ],
   "metadata": {
    "datalore": {
     "node_id": "5DekLPdmuyrv98ziCAvP4u",
     "type": "CODE",
     "hide_input_from_viewers": true,
     "hide_output_from_viewers": true
    }
   }
  },
  {
   "cell_type": "code",
   "source": [
    "model_GBC = load('/data/notebook_files/model_GBC.joblib')\n",
    "\n",
    "model_GBC.get_params()"
   ],
   "execution_count": 66,
   "outputs": [
    {
     "data": {
      "text/plain": [
       "{'memory': None,\n",
       " 'steps': [('preprocessor',\n",
       "   ColumnTransformer(transformers=[('num', RobustScaler(), ['AGEP', 'WKHP']),\n",
       "                                   ('cat', OneHotEncoder(handle_unknown='ignore'),\n",
       "                                    ['COW', 'SCHL', 'MAR', 'OCCP', 'POBP', 'RELP',\n",
       "                                     'SEX', 'RAC1P'])])),\n",
       "  ('classifier',\n",
       "   GradientBoostingClassifier(learning_rate=0.2, min_samples_split=12,\n",
       "                              n_estimators=351))],\n",
       " 'verbose': False,\n",
       " 'preprocessor': ColumnTransformer(transformers=[('num', RobustScaler(), ['AGEP', 'WKHP']),\n",
       "                                 ('cat', OneHotEncoder(handle_unknown='ignore'),\n",
       "                                  ['COW', 'SCHL', 'MAR', 'OCCP', 'POBP', 'RELP',\n",
       "                                   'SEX', 'RAC1P'])]),\n",
       " 'classifier': GradientBoostingClassifier(learning_rate=0.2, min_samples_split=12,\n",
       "                            n_estimators=351),\n",
       " 'preprocessor__n_jobs': None,\n",
       " 'preprocessor__remainder': 'drop',\n",
       " 'preprocessor__sparse_threshold': 0.3,\n",
       " 'preprocessor__transformer_weights': None,\n",
       " 'preprocessor__transformers': [('num', RobustScaler(), ['AGEP', 'WKHP']),\n",
       "  ('cat',\n",
       "   OneHotEncoder(handle_unknown='ignore'),\n",
       "   ['COW', 'SCHL', 'MAR', 'OCCP', 'POBP', 'RELP', 'SEX', 'RAC1P'])],\n",
       " 'preprocessor__verbose': False,\n",
       " 'preprocessor__verbose_feature_names_out': True,\n",
       " 'preprocessor__num': RobustScaler(),\n",
       " 'preprocessor__cat': OneHotEncoder(handle_unknown='ignore'),\n",
       " 'preprocessor__num__copy': True,\n",
       " 'preprocessor__num__quantile_range': (25.0, 75.0),\n",
       " 'preprocessor__num__unit_variance': False,\n",
       " 'preprocessor__num__with_centering': True,\n",
       " 'preprocessor__num__with_scaling': True,\n",
       " 'preprocessor__cat__categories': 'auto',\n",
       " 'preprocessor__cat__drop': None,\n",
       " 'preprocessor__cat__dtype': numpy.float64,\n",
       " 'preprocessor__cat__handle_unknown': 'ignore',\n",
       " 'preprocessor__cat__max_categories': None,\n",
       " 'preprocessor__cat__min_frequency': None,\n",
       " 'preprocessor__cat__sparse': 'deprecated',\n",
       " 'preprocessor__cat__sparse_output': True,\n",
       " 'classifier__ccp_alpha': 0.0,\n",
       " 'classifier__criterion': 'friedman_mse',\n",
       " 'classifier__init': None,\n",
       " 'classifier__learning_rate': 0.2,\n",
       " 'classifier__loss': 'log_loss',\n",
       " 'classifier__max_depth': 3,\n",
       " 'classifier__max_features': None,\n",
       " 'classifier__max_leaf_nodes': None,\n",
       " 'classifier__min_impurity_decrease': 0.0,\n",
       " 'classifier__min_samples_leaf': 1,\n",
       " 'classifier__min_samples_split': 12,\n",
       " 'classifier__min_weight_fraction_leaf': 0.0,\n",
       " 'classifier__n_estimators': 351,\n",
       " 'classifier__n_iter_no_change': None,\n",
       " 'classifier__random_state': None,\n",
       " 'classifier__subsample': 1.0,\n",
       " 'classifier__tol': 0.0001,\n",
       " 'classifier__validation_fraction': 0.1,\n",
       " 'classifier__verbose': 0,\n",
       " 'classifier__warm_start': False}"
      ]
     },
     "metadata": {},
     "output_type": "display_data"
    }
   ],
   "metadata": {
    "datalore": {
     "node_id": "Wj5td5esth4rfXoB83GXqc",
     "type": "CODE",
     "hide_input_from_viewers": true,
     "hide_output_from_viewers": true
    }
   }
  },
  {
   "cell_type": "code",
   "source": [
    "\n",
    "modelGBC = Pipeline([\n",
    "    ('preprocessor', preprocessor),\n",
    "    ('classifier', GradientBoostingClassifier())\n",
    "])\n",
    "\n",
    "\n",
    "param_grid_GBC = { \n",
    "    'classifier__n_estimators' : [351],\n",
    "    'classifier__learning_rate' : [0.2],\n",
    "    'classifier__min_samples_split' : [12],\n",
    "    'classifier__criterion' : ['friedman_mse']\n",
    "}\n",
    "\n",
    "grid_GBC = GridSearchCV(modelGBC,param_grid_GBC,cv=5, verbose=2)\n",
    "\n",
    "\n",
    "grid_GBC.fit(X_train_SEX, y_train[\"PINCP\"])\n",
    "\n",
    "predict = grid_GBC.predict(X_test_SEX)\n",
    "accuracy_score_gbc = accuracy_score(y_test[\"PINCP\"], predict)\n",
    "print(\"Score training: \", grid_GBC.best_score_)\n",
    "print(\"Accuracy test: \", accuracy_score_gbc)\n",
    "\n",
    "best_model = grid_GBC.best_estimator_\n",
    "dump(best_model, 'model_GBC_SEX.joblib')\n",
    "\n",
    "#Acuracy avant 0.89437"
   ],
   "execution_count": 19,
   "outputs": [
    {
     "ename": "NameError",
     "evalue": "NameError: name 'GradientBoostingClassifier' is not defined",
     "traceback": [
      "\u001B[0;31m---------------------------------------------------------------------------",
      "Traceback (most recent call last)",
      "    at line 3 in <module>",
      "NameError: name 'GradientBoostingClassifier' is not defined"
     ],
     "output_type": "error"
    }
   ],
   "metadata": {
    "datalore": {
     "node_id": "zZCTRfHgARjRQRF6KYN2HS",
     "type": "CODE",
     "hide_input_from_viewers": true,
     "hide_output_from_viewers": true
    }
   }
  },
  {
   "cell_type": "code",
   "source": [
    "model_GBC = load('/data/notebook_files/model_GBC_SEX.joblib')\n",
    "X_test_SEX = X_test.drop(['SEX'], axis=1)\n",
    "conf2 = sexe_confusion_matrix_train(model_GBC)\n",
    "statistical_parity(conf2[0], conf2[1])\n",
    "\n",
    "predict = model_GBC.predict(X_test_SEX)\n",
    "accuracy_score_gbc = accuracy_score(y_test[\"PINCP\"], predict)\n",
    "print(\"Accuracy test: \", accuracy_score_gbc)"
   ],
   "execution_count": 67,
   "outputs": [
    {
     "name": "stdout",
     "text": [
      "Matrice de confusion homme : \n",
      " [[31952  6620]\n",
      " [ 9388 24435]]\n",
      "Matrice de confusion femme : \n",
      " [[35033  6903]\n",
      " [ 6251 16383]]\n",
      "Taux de prédiction négative pour hommes :  0.5710339111817114\n",
      "Taux de négatif détecté :  0.8283729129938816\n",
      "Taux de positive détecté :  0.7224373946722644\n",
      "Taux de prédiction négative pour femmes :  0.6393681276134427\n",
      "Taux de négatif détecté :  0.8353920259442961\n",
      "Taux de positive détecté :  0.7238225678183264\n",
      "Accuracy test:  0.7841396933560477\n"
     ],
     "output_type": "stream"
    }
   ],
   "metadata": {
    "datalore": {
     "node_id": "ldxJbbPbyMBBzf89E7BZAL",
     "type": "CODE",
     "hide_input_from_viewers": true,
     "hide_output_from_viewers": true
    }
   }
  },
  {
   "cell_type": "code",
   "source": [
    "model_GBC = load('/data/notebook_files/model_GBC.joblib')\n",
    "\n",
    "\n",
    "predict = model_GBC.predict(X_test)\n",
    "accuracy_score_gbc = accuracy_score(y_test[\"PINCP\"], predict)\n",
    "print(\"Accuracy test: \", accuracy_score_gbc)"
   ],
   "execution_count": 69,
   "outputs": [
    {
     "name": "stdout",
     "text": [
      "Accuracy test:  0.7872572402044293\n"
     ],
     "output_type": "stream"
    }
   ],
   "metadata": {
    "datalore": {
     "node_id": "Pcj91GFENOLztK41aZjTz0",
     "type": "CODE",
     "hide_input_from_viewers": true,
     "hide_output_from_viewers": true
    }
   }
  },
  {
   "cell_type": "code",
   "source": [
    "from sklearn.ensemble import RandomForestClassifier\n",
    "\n",
    "X_train_RACE = X_train.drop(['SEX'], axis=1)\n",
    "X_test_RACE = X_test.drop(['SEX'], axis=1)\n",
    "modelRF = Pipeline([\n",
    "    ('preprocessor', preprocessor),\n",
    "    ('classifier', RandomForestClassifier())\n",
    "])\n",
    "\n",
    "\n",
    "param_grid_RF = { \n",
    "    'classifier__max_depth' : [100],\n",
    "    'classifier__criterion' : ['entropy'],\n",
    "    'classifier__min_samples_leaf' : [1],\n",
    "    'classifier__min_samples_split': [12]\n",
    "}\n",
    "\n",
    "grid_RF = GridSearchCV(modelRF,param_grid_RF,cv=5, verbose=2)\n",
    "\n",
    "\n",
    "grid_RF.fit(X_train_RACE, y_train[\"PINCP\"])\n",
    "\n",
    "predict = grid_RF.predict(X_test_RACE)\n",
    "accuracy_score_RF = accuracy_score(y_test[\"PINCP\"], predict)\n",
    "print(\"Score training: \", grid_RF.best_score_)\n",
    "print(\"Accuracy test: \", accuracy_score_RF)\n",
    "\n",
    "best_model = grid_RF.best_estimator_\n",
    "dump(best_model, 'model_RF_SEX.joblib')"
   ],
   "execution_count": 83,
   "outputs": [
    {
     "name": "stdout",
     "text": [
      "Fitting 5 folds for each of 1 candidates, totalling 5 fits\n",
      "[CV] END classifier__criterion=entropy, classifier__max_depth=100, classifier__min_samples_leaf=1, classifier__min_samples_split=12; total time=   1.2s\n",
      "[CV] END classifier__criterion=entropy, classifier__max_depth=100, classifier__min_samples_leaf=1, classifier__min_samples_split=12; total time=   1.2s\n",
      "[CV] END classifier__criterion=entropy, classifier__max_depth=100, classifier__min_samples_leaf=1, classifier__min_samples_split=12; total time=   1.2s\n",
      "[CV] END classifier__criterion=entropy, classifier__max_depth=100, classifier__min_samples_leaf=1, classifier__min_samples_split=12; total time=   1.2s\n",
      "[CV] END classifier__criterion=entropy, classifier__max_depth=100, classifier__min_samples_leaf=1, classifier__min_samples_split=12; total time=   1.2s\n",
      "Score training:  0.7982831716828317\n",
      "Accuracy test:  0.8100511073253833\n"
     ],
     "output_type": "stream"
    },
    {
     "data": {
      "text/plain": [
       "['model_RF_SEX.joblib']"
      ]
     },
     "metadata": {},
     "output_type": "display_data"
    }
   ],
   "metadata": {
    "datalore": {
     "node_id": "r2AXqZQTqQtKSHx13vIR36",
     "type": "CODE",
     "hide_input_from_viewers": true,
     "hide_output_from_viewers": true
    }
   }
  },
  {
   "cell_type": "code",
   "source": [
    "model_RF = load('/data/notebook_files/model_RF_SEX.joblib')\n",
    "X_test_SEX = X_test.drop(['SEX'], axis=1)\n",
    "conf2 = sexe_confusion_matrix_train(model_RF)\n",
    "statistical_parity(conf2[0], conf2[1])\n",
    "\n",
    "predict = model_RF.predict(X_test_SEX)\n",
    "accuracy_score_rf = accuracy_score(y_test[\"PINCP\"], predict)\n",
    "print(\"Accuracy test: \", accuracy_score_rf)"
   ],
   "execution_count": 87,
   "outputs": [
    {
     "name": "stdout",
     "text": [
      "Matrice de confusion homme : \n",
      " [[33529  5153]\n",
      " [ 9580 24025]]\n",
      "Matrice de confusion femme : \n",
      " [[36415  5658]\n",
      " [ 6465 16140]]\n",
      "Taux de prédiction négative pour hommes :  0.5963589580422483\n",
      "Taux de négatif détecté :  0.8667855850266274\n",
      "Taux de positive détecté :  0.7149233744978426\n",
      "Taux de prédiction négative pour femmes :  0.662976591731346\n",
      "Taux de négatif détecté :  0.8655194542818435\n",
      "Taux de positive détecté :  0.7140013271400133\n",
      "Accuracy test:  0.8050596252129472\n"
     ],
     "output_type": "stream"
    }
   ],
   "metadata": {
    "datalore": {
     "node_id": "wVQUOxY2jTWAg0sGl3luBy",
     "type": "CODE",
     "hide_input_from_viewers": true,
     "hide_output_from_viewers": true
    }
   }
  },
  {
   "cell_type": "code",
   "source": [
    "#On dirait que c'est pas un biais du modèle du coup ? \n",
    "model_RF = load('/data/notebook_files/model_RF.joblib')\n",
    "\n",
    "model_RF.get_params()"
   ],
   "execution_count": 73,
   "outputs": [
    {
     "data": {
      "text/plain": [
       "{'memory': None,\n",
       " 'steps': [('preprocessor',\n",
       "   ColumnTransformer(transformers=[('num', RobustScaler(), ['AGEP', 'WKHP']),\n",
       "                                   ('cat', OneHotEncoder(handle_unknown='ignore'),\n",
       "                                    ['COW', 'SCHL', 'MAR', 'OCCP', 'POBP', 'RELP',\n",
       "                                     'SEX', 'RAC1P'])])),\n",
       "  ('classifier',\n",
       "   RandomForestClassifier(criterion='entropy', max_depth=901, min_samples_split=12))],\n",
       " 'verbose': False,\n",
       " 'preprocessor': ColumnTransformer(transformers=[('num', RobustScaler(), ['AGEP', 'WKHP']),\n",
       "                                 ('cat', OneHotEncoder(handle_unknown='ignore'),\n",
       "                                  ['COW', 'SCHL', 'MAR', 'OCCP', 'POBP', 'RELP',\n",
       "                                   'SEX', 'RAC1P'])]),\n",
       " 'classifier': RandomForestClassifier(criterion='entropy', max_depth=901, min_samples_split=12),\n",
       " 'preprocessor__n_jobs': None,\n",
       " 'preprocessor__remainder': 'drop',\n",
       " 'preprocessor__sparse_threshold': 0.3,\n",
       " 'preprocessor__transformer_weights': None,\n",
       " 'preprocessor__transformers': [('num', RobustScaler(), ['AGEP', 'WKHP']),\n",
       "  ('cat',\n",
       "   OneHotEncoder(handle_unknown='ignore'),\n",
       "   ['COW', 'SCHL', 'MAR', 'OCCP', 'POBP', 'RELP', 'SEX', 'RAC1P'])],\n",
       " 'preprocessor__verbose': False,\n",
       " 'preprocessor__verbose_feature_names_out': True,\n",
       " 'preprocessor__num': RobustScaler(),\n",
       " 'preprocessor__cat': OneHotEncoder(handle_unknown='ignore'),\n",
       " 'preprocessor__num__copy': True,\n",
       " 'preprocessor__num__quantile_range': (25.0, 75.0),\n",
       " 'preprocessor__num__unit_variance': False,\n",
       " 'preprocessor__num__with_centering': True,\n",
       " 'preprocessor__num__with_scaling': True,\n",
       " 'preprocessor__cat__categories': 'auto',\n",
       " 'preprocessor__cat__drop': None,\n",
       " 'preprocessor__cat__dtype': numpy.float64,\n",
       " 'preprocessor__cat__handle_unknown': 'ignore',\n",
       " 'preprocessor__cat__max_categories': None,\n",
       " 'preprocessor__cat__min_frequency': None,\n",
       " 'preprocessor__cat__sparse': 'deprecated',\n",
       " 'preprocessor__cat__sparse_output': True,\n",
       " 'classifier__bootstrap': True,\n",
       " 'classifier__ccp_alpha': 0.0,\n",
       " 'classifier__class_weight': None,\n",
       " 'classifier__criterion': 'entropy',\n",
       " 'classifier__max_depth': 901,\n",
       " 'classifier__max_features': 'sqrt',\n",
       " 'classifier__max_leaf_nodes': None,\n",
       " 'classifier__max_samples': None,\n",
       " 'classifier__min_impurity_decrease': 0.0,\n",
       " 'classifier__min_samples_leaf': 1,\n",
       " 'classifier__min_samples_split': 12,\n",
       " 'classifier__min_weight_fraction_leaf': 0.0,\n",
       " 'classifier__n_estimators': 100,\n",
       " 'classifier__n_jobs': None,\n",
       " 'classifier__oob_score': False,\n",
       " 'classifier__random_state': None,\n",
       " 'classifier__verbose': 0,\n",
       " 'classifier__warm_start': False}"
      ]
     },
     "metadata": {},
     "output_type": "display_data"
    }
   ],
   "metadata": {
    "datalore": {
     "node_id": "qk2pdTFGbtFPHFz4rvPGgf",
     "type": "CODE",
     "hide_input_from_viewers": true,
     "hide_output_from_viewers": true
    }
   }
  },
  {
   "cell_type": "code",
   "source": [
    "numeric_feature = [\"AGEP\", \"WKHP\"]\n",
    "categorical_features = [\"COW\", \"SCHL\", \"MAR\", \"OCCP\", \"POBP\",\"SEX\", \"RELP\"]\n",
    "\n",
    "\n",
    "preprocessor = ColumnTransformer(transformers=[('num', RobustScaler(), numeric_feature),\n",
    "                                               ('cat', OneHotEncoder(handle_unknown='ignore'), categorical_features)\n",
    "                                               ])"
   ],
   "execution_count": 72,
   "outputs": [],
   "metadata": {
    "datalore": {
     "node_id": "R0P1a6VN3Vx05Ez80IQuBl",
     "type": "CODE",
     "hide_input_from_viewers": true,
     "hide_output_from_viewers": true
    }
   }
  },
  {
   "cell_type": "code",
   "source": [
    "X_train_RACE = X_train.drop(['RAC1P'], axis=1)\n",
    "X_test_RACE = X_test.drop(['RAC1P'], axis=1)\n",
    "modelGBC = Pipeline([\n",
    "    ('preprocessor', preprocessor),\n",
    "    ('classifier', GradientBoostingClassifier())\n",
    "])\n",
    "\n",
    "\n",
    "param_grid_GBC = { \n",
    "    'classifier__n_estimators' : [351],\n",
    "    'classifier__learning_rate' : [0.2],\n",
    "    'classifier__min_samples_split' : [12],\n",
    "    'classifier__criterion' : ['friedman_mse']\n",
    "}\n",
    "\n",
    "grid_GBC = GridSearchCV(modelGBC,param_grid_GBC,cv=5, verbose=2)\n",
    "\n",
    "\n",
    "grid_GBC.fit(X_train_RACE, y_train[\"PINCP\"])\n",
    "\n",
    "predict = grid_GBC.predict(X_test_RACE)\n",
    "accuracy_score_gbc = accuracy_score(y_test[\"PINCP\"], predict)\n",
    "print(\"Score training: \", grid_GBC.best_score_)\n",
    "print(\"Accuracy test: \", accuracy_score_gbc)\n",
    "\n",
    "best_model = grid_GBC.best_estimator_\n",
    "dump(best_model, 'model_GBC_RACE.joblib')"
   ],
   "execution_count": 74,
   "outputs": [
    {
     "ename": "NameError",
     "evalue": "NameError: name 'GradientBoostingClassifier' is not defined",
     "traceback": [
      "\u001B[0;31m---------------------------------------------------------------------------",
      "Traceback (most recent call last)",
      "    at line 5 in <module>",
      "NameError: name 'GradientBoostingClassifier' is not defined"
     ],
     "output_type": "error"
    }
   ],
   "metadata": {
    "datalore": {
     "node_id": "oBfkoddEcJBkFbN2yYxAJH",
     "type": "CODE",
     "hide_input_from_viewers": true,
     "hide_output_from_viewers": true
    }
   }
  },
  {
   "cell_type": "code",
   "source": [
    "model_GBC = load('/data/notebook_files/model_GBC_RACE.joblib')\n",
    "conf = race_confusion_matrix(model_GBC)\n",
    "statistical_parity_race(conf[0], conf[1])\n",
    "X_train_RACE = X_train.drop(['RAC1P'], axis=1)\n",
    "X_test_RACE = X_test.drop(['RAC1P'], axis=1)\n",
    "predict = model_GBC.predict(X_test_RACE)\n",
    "accuracy_score_gbc = accuracy_score(y_test[\"PINCP\"], predict)\n",
    "print(\"Accuracy test: \", accuracy_score_gbc)"
   ],
   "execution_count": 59,
   "outputs": [
    {
     "name": "stdout",
     "text": [
      "Matrice de confusion hawai : \n",
      " [[128  16]\n",
      " [ 17  35]]\n",
      "Matrice de confusion other race alone : \n",
      " [[1336  242]\n",
      " [ 274  640]]\n",
      "Taux de prédiction négative pour hawai :  0.7397959183673469\n",
      "Taux de négatif détecté :  0.8888888888888888\n",
      "Taux de positif détecté :  0.6730769230769231\n",
      "Taux de prédiction négative pour other race alone :  0.6460674157303371\n",
      "Taux de négatif détecté :  0.8466413181242078\n",
      "Taux de positif détecté :  0.700218818380744\n",
      "Accuracy test:  0.7878023850085178\n"
     ],
     "output_type": "stream"
    }
   ],
   "metadata": {
    "datalore": {
     "node_id": "XdJOZpQXpBwDoiTgyvHqei",
     "type": "CODE",
     "hide_input_from_viewers": true,
     "hide_output_from_viewers": true
    }
   }
  },
  {
   "cell_type": "code",
   "source": [
    "#Voilà on remarque des différences"
   ],
   "execution_count": 73,
   "outputs": [],
   "metadata": {
    "datalore": {
     "node_id": "0XZ5nYfR4TMV02o6mkTIvM",
     "type": "CODE",
     "hide_input_from_viewers": true,
     "hide_output_from_viewers": true
    }
   }
  },
  {
   "cell_type": "code",
   "source": [
    "from sklearn.ensemble import RandomForestClassifier\n",
    "\n",
    "X_train_RACE = X_train.drop(['RAC1P'], axis=1)\n",
    "X_test_RACE = X_test.drop(['RAC1P'], axis=1)\n",
    "modelRF = Pipeline([\n",
    "    ('preprocessor', preprocessor),\n",
    "    ('classifier', RandomForestClassifier())\n",
    "])\n",
    "\n",
    "\n",
    "param_grid_RF = { \n",
    "    'classifier__max_depth' : [100],\n",
    "    'classifier__criterion' : ['entropy'],\n",
    "    'classifier__min_samples_leaf' : [1],\n",
    "    'classifier__min_samples_split': [12]\n",
    "}\n",
    "\n",
    "grid_RF = GridSearchCV(modelRF,param_grid_RF,cv=5, verbose=2)\n",
    "\n",
    "\n",
    "grid_RF.fit(X_train_RACE, y_train[\"PINCP\"])\n",
    "\n",
    "predict = grid_RF.predict(X_test_RACE)\n",
    "accuracy_score_RF = accuracy_score(y_test[\"PINCP\"], predict)\n",
    "print(\"Score training: \", grid_RF.best_score_)\n",
    "print(\"Accuracy test: \", accuracy_score_RF)\n",
    "\n",
    "best_model = grid_RF.best_estimator_\n",
    "dump(best_model, 'model_RF_RACE.joblib')"
   ],
   "execution_count": 79,
   "outputs": [
    {
     "name": "stdout",
     "text": [
      "Fitting 5 folds for each of 1 candidates, totalling 5 fits\n",
      "[CV] END classifier__criterion=entropy, classifier__max_depth=100, classifier__min_samples_leaf=1, classifier__min_samples_split=12; total time=   1.2s\n",
      "[CV] END classifier__criterion=entropy, classifier__max_depth=100, classifier__min_samples_leaf=1, classifier__min_samples_split=12; total time=   1.2s\n",
      "[CV] END classifier__criterion=entropy, classifier__max_depth=100, classifier__min_samples_leaf=1, classifier__min_samples_split=12; total time=   1.2s\n",
      "[CV] END classifier__criterion=entropy, classifier__max_depth=100, classifier__min_samples_leaf=1, classifier__min_samples_split=12; total time=   1.2s\n",
      "[CV] END classifier__criterion=entropy, classifier__max_depth=100, classifier__min_samples_leaf=1, classifier__min_samples_split=12; total time=   1.2s\n",
      "Score training:  0.7977367263273673\n",
      "Accuracy test:  0.8160136286201022\n"
     ],
     "output_type": "stream"
    },
    {
     "data": {
      "text/plain": [
       "['model_RF_RACE.joblib']"
      ]
     },
     "metadata": {},
     "output_type": "display_data"
    }
   ],
   "metadata": {
    "datalore": {
     "node_id": "28Y8OJhKnlbQWfmuWmjsKe",
     "type": "CODE",
     "hide_input_from_viewers": true,
     "hide_output_from_viewers": true
    }
   }
  },
  {
   "cell_type": "code",
   "source": [
    "model_RF= load('/data/notebook_files/model_RF_RACE.joblib')\n",
    "conf = race_confusion_matrix(model_RF)\n",
    "statistical_parity_race(conf[0], conf[1])\n",
    "X_train_RACE = X_train.drop(['RAC1P'], axis=1)\n",
    "X_test_RACE = X_test.drop(['RAC1P'], axis=1)\n",
    "predict = model_RF.predict(X_test_RACE)\n",
    "accuracy_score_rf = accuracy_score(y_test[\"PINCP\"], predict)\n",
    "print(\"Accuracy test: \", accuracy_score_rf)"
   ],
   "execution_count": 88,
   "outputs": [
    {
     "name": "stdout",
     "text": [
      "Matrice de confusion hawai : \n",
      " [[106  20]\n",
      " [ 22  32]]\n",
      "Matrice de confusion other race alone : \n",
      " [[1471  169]\n",
      " [ 277  619]]\n",
      "Taux de prédiction négative pour hawai :  0.7111111111111111\n",
      "Taux de négatif détecté :  0.8412698412698413\n",
      "Taux de positif détecté :  0.5925925925925926\n",
      "Taux de prédiction négative pour other race alone :  0.6892744479495269\n",
      "Taux de négatif détecté :  0.8969512195121951\n",
      "Taux de positif détecté :  0.6908482142857143\n",
      "Accuracy test:  0.8068143100511074\n"
     ],
     "output_type": "stream"
    }
   ],
   "metadata": {
    "datalore": {
     "node_id": "CqsSW06zhhkSTnx4vWKi1F",
     "type": "CODE",
     "hide_input_from_viewers": true,
     "hide_output_from_viewers": true
    }
   }
  },
  {
   "cell_type": "code",
   "source": [
    "percentage_sex_1 = (X_test['SEX'].eq(1).sum() / len(X_test['SEX'])) * 100\n",
    "\n",
    "print(f\"Pourcentage de SEX=1 dans X_test : {percentage_sex_1:.2f}%\")"
   ],
   "execution_count": 86,
   "outputs": [
    {
     "name": "stdout",
     "text": [
      "Pourcentage de SEX=1 dans X_test : 54.34%\n"
     ],
     "output_type": "stream"
    }
   ],
   "metadata": {
    "datalore": {
     "node_id": "luQ7DoNeSvWToDhUWzNHVZ",
     "type": "CODE",
     "hide_input_from_viewers": true,
     "hide_output_from_viewers": true
    }
   }
  },
  {
   "cell_type": "code",
   "source": [
    "for i in range(1, 10):\n",
    "    percentage_race = (X['RAC1P'].eq(i).sum() / len(X['RAC1P'])) * 100\n",
    "    print(f\"Pourcentage de RAC1P={i} dans X_test : {percentage_race:.2f}%\")"
   ],
   "execution_count": 56,
   "outputs": [
    {
     "name": "stdout",
     "text": [
      "Pourcentage de RAC1P=1 dans X_test : 61.84%\n",
      "Pourcentage de RAC1P=2 dans X_test : 4.37%\n",
      "Pourcentage de RAC1P=3 dans X_test : 0.66%\n",
      "Pourcentage de RAC1P=4 dans X_test : 0.01%\n",
      "Pourcentage de RAC1P=5 dans X_test : 0.23%\n",
      "Pourcentage de RAC1P=6 dans X_test : 16.72%\n",
      "Pourcentage de RAC1P=7 dans X_test : 0.33%\n",
      "Pourcentage de RAC1P=8 dans X_test : 11.65%\n",
      "Pourcentage de RAC1P=9 dans X_test : 4.19%\n"
     ],
     "output_type": "stream"
    }
   ],
   "metadata": {
    "datalore": {
     "node_id": "fS0Z3jn5QHrI7kBYeiBgQZ",
     "type": "CODE",
     "hide_input_from_viewers": true,
     "hide_output_from_viewers": true
    }
   }
  },
  {
   "cell_type": "code",
   "source": [],
   "execution_count": 0,
   "outputs": [],
   "metadata": {
    "datalore": {
     "node_id": "gzcIkNtUbNn2NVM0hkX7t9",
     "type": "CODE",
     "hide_input_from_viewers": true,
     "hide_output_from_viewers": true
    }
   }
  },
  {
   "cell_type": "code",
   "source": [],
   "execution_count": null,
   "outputs": [],
   "metadata": {
    "datalore": {
     "node_id": "arbQBp0wY0P35tsk3R6R9a",
     "type": "CODE",
     "hide_input_from_viewers": true,
     "hide_output_from_viewers": true
    }
   }
  }
 ],
 "metadata": {
  "kernelspec": {
   "display_name": "Python",
   "language": "python",
   "name": "python"
  },
  "datalore": {
   "computation_mode": "JUPYTER",
   "package_manager": "pip",
   "base_environment": "default",
   "packages": [
    {
     "name": "spicy",
     "version": "0.16.0",
     "source": "PIP"
    },
    {
     "name": "nltk",
     "version": "3.8.1",
     "source": "PIP"
    }
   ],
   "report_row_ids": [],
   "version": 3
  }
 },
 "nbformat": 4,
 "nbformat_minor": 4
}
